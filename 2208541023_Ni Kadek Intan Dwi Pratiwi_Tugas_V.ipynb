{
 "cells": [
  {
   "cell_type": "markdown",
   "id": "18a3db58",
   "metadata": {},
   "source": [
    "# Tugas Pertemuan Kelima"
   ]
  },
  {
   "cell_type": "markdown",
   "id": "e6c84020",
   "metadata": {},
   "source": [
    "## 5.16 List 2 Dimensi"
   ]
  },
  {
   "cell_type": "markdown",
   "id": "bf4d1f92",
   "metadata": {},
   "source": [
    "List 2 dimensi pada umumnya adalah menempatkan sebuah list di dalam list.\n",
    "Penggambarannya seperti sebuah matrik."
   ]
  },
  {
   "cell_type": "markdown",
   "id": "c6e635d2",
   "metadata": {},
   "source": [
    "#### Contoh Penerapan List 2 Dimensi"
   ]
  },
  {
   "cell_type": "code",
   "execution_count": 1,
   "id": "ff26c0ff",
   "metadata": {},
   "outputs": [
    {
     "name": "stdout",
     "output_type": "stream",
     "text": [
      "[[1, 5, 9, 10], [3, 7, 11, 12], [5, 8, 10, 13], [7, 5, 9, 10]]\n"
     ]
    }
   ],
   "source": [
    "# dengan menggunakan contoh matriks\n",
    "# disini diberikan 4 buah matriks\n",
    "# yang dimana 4 buah matriks ini merupakan sebuah list yang didalamnya berisi list\n",
    "\n",
    "# masukan variabelnya, yaitu matriks\n",
    "# list harus berada didalam tanda []\n",
    "# karena diisni merupkan list didalam list, maka penggunaan tanda [] double \n",
    "# [ berada di atas sebelum adanya list, kemudia penutupnya berada dibawah list\n",
    "# berikut contohnya \n",
    "matriks = [\n",
    "    [1,5,9,10],\n",
    "    [3,7,11,12],\n",
    "    [5,8,10,13],\n",
    "    [7,5,9,10]\n",
    "]\n",
    "# kemudian mari mencoba untuk print\n",
    "# seperti biasa ketik \"  print (variabel)   \"\n",
    "print (matriks)\\\n",
    "# hasil yang muncul adalah list yang dimasukan dalam variabel matriks"
   ]
  },
  {
   "cell_type": "code",
   "execution_count": 2,
   "id": "186ceb95",
   "metadata": {},
   "outputs": [
    {
     "data": {
      "text/plain": [
       "[1, 5, 9, 10]"
      ]
     },
     "execution_count": 2,
     "metadata": {},
     "output_type": "execute_result"
    }
   ],
   "source": [
    "# memanggil salah satu list dari variabel matriks\n",
    "# matriks memiliki 4 buah list, dengan masing masing memiliki 4 anggotanya\n",
    "# 4 buah list tersebut memiliki urutan dari 0 sampai 3\n",
    "# disini mencoba untuk memanggil list urutan ke 0\n",
    "\n",
    "# masukan variabelnya yaitu matriks dengan urutannya, urutan matriks ditandai dengan []\n",
    "# contohnya seperti dibawah ini\n",
    "matriks[0]\n",
    "# maka outputnya adalah urutan ke 0 dari list variabel matriks"
   ]
  },
  {
   "cell_type": "code",
   "execution_count": 3,
   "id": "2c23f1e5",
   "metadata": {},
   "outputs": [
    {
     "data": {
      "text/plain": [
       "11"
      ]
     },
     "execution_count": 3,
     "metadata": {},
     "output_type": "execute_result"
    }
   ],
   "source": [
    "# contoh 1\n",
    "# memanggil salah satu anggota list dari suatu list\n",
    "# urutan dari atas ke bawah disebut dengan baris\n",
    "# urutan dari kiri ke kanan disebut dengan kolom\n",
    "\n",
    "# masukan variabelnya yaitu matriks, lalu masukan salah satu baris beserta kolomnya yang ingin dipanggil\n",
    "# disini semua urutan dimulai dari 0\n",
    "# saya memasukan baris 0 kolom 3\n",
    "# jangan lupa kolom dan baris diberi tanda []\n",
    "matriks [1][2]\n",
    "# maka outputnya adalah 11, bisa di cek sendiri secara manual."
   ]
  },
  {
   "cell_type": "code",
   "execution_count": 4,
   "id": "302e5ba9",
   "metadata": {},
   "outputs": [
    {
     "data": {
      "text/plain": [
       "5"
      ]
     },
     "execution_count": 4,
     "metadata": {},
     "output_type": "execute_result"
    }
   ],
   "source": [
    "# contoh 2\n",
    "# memanggil salah satu anggota list dari suatu list\n",
    "# urutan dari atas ke bawah disebut dengan baris\n",
    "# urutan dari kiri ke kanan disebut dengan kolom\n",
    "\n",
    "# masukan variabelnya yaitu matriks, lalu masukan salah satu baris beserta kolomnya yang ingin dipanggil\n",
    "# disini semua urutan dimulai dari 0\n",
    "# saya memasukan baris 3 kolom 1\n",
    "# jangan lupa kolom dan baris diberi tanda []\n",
    "matriks[3][1]\n",
    "# maka outputnya adalah 5, bisa di cek sendiri secara manual."
   ]
  },
  {
   "cell_type": "code",
   "execution_count": 5,
   "id": "bc72e487",
   "metadata": {},
   "outputs": [
    {
     "name": "stdout",
     "output_type": "stream",
     "text": [
      "50\n"
     ]
    }
   ],
   "source": [
    "# mengganti salah satu anggota list dari suatu list\n",
    "# disini saya ingin mengganti baris 2 kolom 3, menjadi 50\n",
    "\n",
    "# masukan variabelnya beserta bagian kolom dan baris yang mana yang ingin diganti\n",
    "# lalu masukan angka terbarunya\n",
    "# kolom dan baris diberi tanda [], lalu diberi = masukan angka terbaru\n",
    "# dengan contoh seperti dibawah ini\n",
    "matriks[2][3] = 50\n",
    "\n",
    "# mari kita cek, apakah baris 2 kolom 3 sudah terganti menjadi 50 atau belum\n",
    "# mencoba untuk memanggil baris 2 kolom 3\n",
    "# ketik print (variabel[baris][kolom])\n",
    "# dengan contoh dibawah ini\n",
    "print (matriks[2][3])\n",
    "# outputnya adalah 50\n",
    "# berarti baris 2 kolom 3 sudah terganti\n",
    "# sebelum dirubah baris 2 kolom 3 adalah 13 "
   ]
  },
  {
   "cell_type": "code",
   "execution_count": 6,
   "id": "b6a81477",
   "metadata": {},
   "outputs": [
    {
     "data": {
      "text/plain": [
       "[[1, 5, 9, 10], [3, 7, 11, 12], [5, 8, 10, 50], [7, 5, 9, 10]]"
      ]
     },
     "execution_count": 6,
     "metadata": {},
     "output_type": "execute_result"
    }
   ],
   "source": [
    "# mencoba memanggil matriks\n",
    "# mengecek apakah yang akan muncul adalah matriks yang sebelum dirubah atau sudah dirubah\n",
    "# ketik matriks\n",
    "matriks\n",
    "# hasil yang muncul dalah yang sudah diperbarui"
   ]
  },
  {
   "cell_type": "markdown",
   "id": "ec684367",
   "metadata": {},
   "source": [
    "#### Cara memanggil anggota dari list 2 dimensi"
   ]
  },
  {
   "cell_type": "code",
   "execution_count": 7,
   "id": "34b0e9eb",
   "metadata": {},
   "outputs": [
    {
     "name": "stdout",
     "output_type": "stream",
     "text": [
      "[1, 5, 9, 10]\n",
      "1\n",
      "5\n",
      "9\n",
      "10\n",
      "[3, 7, 11, 12]\n",
      "3\n",
      "7\n",
      "11\n",
      "12\n",
      "[5, 8, 10, 50]\n",
      "5\n",
      "8\n",
      "10\n",
      "50\n",
      "[7, 5, 9, 10]\n",
      "7\n",
      "5\n",
      "9\n",
      "10\n"
     ]
    }
   ],
   "source": [
    "# memanggil anggota dari list di dalam list dengan menggunakan for\n",
    "# baris in matriks maksudnya baris berada didalam matriks\n",
    "# akhir dari for diberi tanda :\n",
    "for baris in matriks:\n",
    "    print(baris)\n",
    "# memanggil baris dari matriks\n",
    "# maka baris yang muncul adalah dari baris 0 sampai baris 3\n",
    "\n",
    "# selanjutnya kolom in baris\n",
    "# akhir dari for diberi tanda :\n",
    "    for kolom in baris:\n",
    "        print (kolom)\n",
    "# memanggil kolom dari matriks, berdasarkan urutan barisnya\n",
    "\n",
    "# sehingga outputnya adalah memnuculkan baris dari 0 sampai baris 3\n",
    "# dengan menampilkan juga anggotanya, atau disebut kolom dari barisnya\n",
    "# dengan baris horizontal\n",
    "# kolom vertikal"
   ]
  },
  {
   "cell_type": "markdown",
   "id": "fb2df883",
   "metadata": {},
   "source": [
    "## 5.17 Tuples"
   ]
  },
  {
   "cell_type": "markdown",
   "id": "548ffbdf",
   "metadata": {},
   "source": [
    "Tuples mirip dengan list, akan tetapi tuples tidak dapat dirubah isinya. Jika kita\n",
    "memiliki data yang tidak ingin dirubah isinya, kita gunakan tuples, sedangkan\n",
    "jika datanya masih ingin dimanipulasi kedepannya, gunakan list."
   ]
  },
  {
   "cell_type": "markdown",
   "id": "00f34cec",
   "metadata": {},
   "source": [
    "#### Contoh penerapan tuples pada Python"
   ]
  },
  {
   "cell_type": "code",
   "execution_count": 8,
   "id": "07bb3d8f",
   "metadata": {},
   "outputs": [
    {
     "name": "stdout",
     "output_type": "stream",
     "text": [
      "17\n"
     ]
    }
   ],
   "source": [
    "# perbedaan secara kode antara tuples dan list adalah penggunaan tanda kurungnya\n",
    "# list menggunakan tanda kurung []\n",
    "# tuples menggunakan tanda kurung ()\n",
    "\n",
    "# masukan variabelnya beserta dengan isinya\n",
    "# isinya diberi tanda ()\n",
    "# disini saya menggunakan contoh bilangan prima\n",
    "bilangan_prima = (2,3,7,11,13,17)\n",
    "\n",
    "# lalu kita coba untuk memanggil salah satu anggotanya\n",
    "# ketik print(variabel[urutan yang ingin dipanggil])\n",
    "# dengan contoh seperti dibawah ini\n",
    "print(bilangan_prima[5])\n",
    "# sama dengan seblumnya urutan nya berawal dari 0"
   ]
  },
  {
   "cell_type": "code",
   "execution_count": 9,
   "id": "6ecbce8c",
   "metadata": {},
   "outputs": [
    {
     "name": "stdout",
     "output_type": "stream",
     "text": [
      "(2, 3, 7, 11)\n"
     ]
    }
   ],
   "source": [
    "# memanggil anggotanya dengan menggunakan interval\n",
    "\n",
    "# ketik print(variabel[intervalnya])\n",
    "# disini saya menggunakan 0:4\n",
    "# yang artinya urutan 0<= bilangan prima < 4\n",
    "# diperhatikan kembali bahwa urutan ke 4 tidak dipanggil\n",
    "print (bilangan_prima[0:4])"
   ]
  },
  {
   "cell_type": "code",
   "execution_count": 10,
   "id": "242fbf18",
   "metadata": {},
   "outputs": [
    {
     "name": "stdout",
     "output_type": "stream",
     "text": [
      "2\n",
      "3\n",
      "7\n",
      "11\n"
     ]
    }
   ],
   "source": [
    "# memanggil anggotanya dalam bentuk barisan dengan menggunakan for\n",
    "# akhir dari for diberi tanda :\n",
    "# disini saya menggunakan 0:4\n",
    "# yang artinya urutan 0<= bilangan prima < 4\n",
    "for isi in bilangan_prima[0:4]:\n",
    "# yang dimana isi nya itu adalah anggota yang dipanggil dalam bentuk interval\n",
    "    print (isi)\n",
    "# hasil yang muncul adalah angka yang sama dengan sebelumnya, namun dalam bentuk yang berbeda"
   ]
  },
  {
   "cell_type": "code",
   "execution_count": 11,
   "id": "73257394",
   "metadata": {},
   "outputs": [
    {
     "ename": "TypeError",
     "evalue": "'tuple' object does not support item assignment",
     "output_type": "error",
     "traceback": [
      "\u001b[1;31m---------------------------------------------------------------------------\u001b[0m",
      "\u001b[1;31mTypeError\u001b[0m                                 Traceback (most recent call last)",
      "\u001b[1;32m~\\AppData\\Local\\Temp\\ipykernel_12828\\2046803879.py\u001b[0m in \u001b[0;36m<module>\u001b[1;34m\u001b[0m\n\u001b[0;32m      3\u001b[0m \u001b[1;33m\u001b[0m\u001b[0m\n\u001b[0;32m      4\u001b[0m \u001b[1;31m# masukan variabel[urutan yang ingin diganti] = masukan angka yang baru\u001b[0m\u001b[1;33m\u001b[0m\u001b[1;33m\u001b[0m\u001b[0m\n\u001b[1;32m----> 5\u001b[1;33m \u001b[0mbilangan_prima\u001b[0m\u001b[1;33m[\u001b[0m\u001b[1;36m1\u001b[0m\u001b[1;33m]\u001b[0m \u001b[1;33m=\u001b[0m \u001b[1;36m8\u001b[0m\u001b[1;33m\u001b[0m\u001b[1;33m\u001b[0m\u001b[0m\n\u001b[0m\u001b[0;32m      6\u001b[0m \u001b[1;31m# maka hasilnya adalah eror\u001b[0m\u001b[1;33m\u001b[0m\u001b[1;33m\u001b[0m\u001b[0m\n\u001b[0;32m      7\u001b[0m \u001b[1;31m# sebab dalam tuples, isi tidak dapat diganti\u001b[0m\u001b[1;33m\u001b[0m\u001b[1;33m\u001b[0m\u001b[0m\n",
      "\u001b[1;31mTypeError\u001b[0m: 'tuple' object does not support item assignment"
     ]
    }
   ],
   "source": [
    "# dalam menggunakan tuples, isinya tidak dapat dirubah\n",
    "# disini akan membuktikan bahwa tuples tidak dapat dirubah isinya\n",
    "\n",
    "# masukan variabel[urutan yang ingin diganti] = masukan angka yang baru\n",
    "bilangan_prima[1] = 8\n",
    "# maka hasilnya adalah eror\n",
    "# sebab dalam tuples, isi tidak dapat diganti"
   ]
  },
  {
   "cell_type": "code",
   "execution_count": 12,
   "id": "0cdeb78a",
   "metadata": {},
   "outputs": [
    {
     "ename": "AttributeError",
     "evalue": "'tuple' object has no attribute 'append'",
     "output_type": "error",
     "traceback": [
      "\u001b[1;31m---------------------------------------------------------------------------\u001b[0m",
      "\u001b[1;31mAttributeError\u001b[0m                            Traceback (most recent call last)",
      "\u001b[1;32m~\\AppData\\Local\\Temp\\ipykernel_12828\\761982170.py\u001b[0m in \u001b[0;36m<module>\u001b[1;34m\u001b[0m\n\u001b[0;32m      4\u001b[0m \u001b[1;31m# dalam menambahkan anggota menggunakan append\u001b[0m\u001b[1;33m\u001b[0m\u001b[1;33m\u001b[0m\u001b[0m\n\u001b[0;32m      5\u001b[0m \u001b[1;31m# variabel.append(angka yang ingin ditambahkan)\u001b[0m\u001b[1;33m\u001b[0m\u001b[1;33m\u001b[0m\u001b[0m\n\u001b[1;32m----> 6\u001b[1;33m \u001b[0mbilangan_prima\u001b[0m\u001b[1;33m.\u001b[0m\u001b[0mappend\u001b[0m\u001b[1;33m(\u001b[0m\u001b[1;36m5\u001b[0m\u001b[1;33m)\u001b[0m\u001b[1;33m\u001b[0m\u001b[1;33m\u001b[0m\u001b[0m\n\u001b[0m\u001b[0;32m      7\u001b[0m \u001b[1;31m# hasil yang muncul yaitu eror, karena dalam tuples idak bisa menambahkan anggota baru\u001b[0m\u001b[1;33m\u001b[0m\u001b[1;33m\u001b[0m\u001b[0m\n",
      "\u001b[1;31mAttributeError\u001b[0m: 'tuple' object has no attribute 'append'"
     ]
    }
   ],
   "source": [
    "# dalam menggunakan tuples, tidak bisa menambahkan anggota lagi\n",
    "# disini akan membuktikan bahwa tuples tidak dapat menambahkan anggota\n",
    "\n",
    "# dalam menambahkan anggota menggunakan append\n",
    "# variabel.append(angka yang ingin ditambahkan)\n",
    "bilangan_prima.append(5)\n",
    "# hasil yang muncul yaitu eror, karena dalam tuples idak bisa menambahkan anggota baru"
   ]
  },
  {
   "cell_type": "code",
   "execution_count": 13,
   "id": "60063221",
   "metadata": {},
   "outputs": [
    {
     "ename": "NameError",
     "evalue": "name 'angka' is not defined",
     "output_type": "error",
     "traceback": [
      "\u001b[1;31m---------------------------------------------------------------------------\u001b[0m",
      "\u001b[1;31mNameError\u001b[0m                                 Traceback (most recent call last)",
      "\u001b[1;32m~\\AppData\\Local\\Temp\\ipykernel_12828\\207733679.py\u001b[0m in \u001b[0;36m<module>\u001b[1;34m\u001b[0m\n\u001b[0;32m      4\u001b[0m \u001b[1;31m# remove digunakn untuk menghapus anggotanya\u001b[0m\u001b[1;33m\u001b[0m\u001b[1;33m\u001b[0m\u001b[0m\n\u001b[0;32m      5\u001b[0m \u001b[1;31m#variabel.remove(angka yang ingin dihapus)\u001b[0m\u001b[1;33m\u001b[0m\u001b[1;33m\u001b[0m\u001b[0m\n\u001b[1;32m----> 6\u001b[1;33m \u001b[0mangka\u001b[0m\u001b[1;33m.\u001b[0m\u001b[0mremove\u001b[0m\u001b[1;33m(\u001b[0m\u001b[1;36m2\u001b[0m\u001b[1;33m)\u001b[0m\u001b[1;33m\u001b[0m\u001b[1;33m\u001b[0m\u001b[0m\n\u001b[0m\u001b[0;32m      7\u001b[0m \u001b[1;31m# hasil yang muncul adalah eror, sesuai dengan pernyataan diatas\u001b[0m\u001b[1;33m\u001b[0m\u001b[1;33m\u001b[0m\u001b[0m\n\u001b[0;32m      8\u001b[0m \u001b[1;31m# bahwa dalam tuples tidak bisa menghapus anggota didalam variabelnya\u001b[0m\u001b[1;33m\u001b[0m\u001b[1;33m\u001b[0m\u001b[0m\n",
      "\u001b[1;31mNameError\u001b[0m: name 'angka' is not defined"
     ]
    }
   ],
   "source": [
    "# selain menambahkan, mengurangi/menghapus didalam tuples juga tidak bisa\n",
    "# disini akan membuktikan bahwa didalam tuples tidak bisa mengurangi/menghapus anggotanya\n",
    "\n",
    "# remove digunakn untuk menghapus anggotanya\n",
    "#variabel.remove(angka yang ingin dihapus)\n",
    "angka.remove(2)\n",
    "# hasil yang muncul adalah eror, sesuai dengan pernyataan diatas\n",
    "# bahwa dalam tuples tidak bisa menghapus anggota didalam variabelnya"
   ]
  },
  {
   "cell_type": "code",
   "execution_count": 14,
   "id": "ea505986",
   "metadata": {},
   "outputs": [
    {
     "data": {
      "text/plain": [
       "1"
      ]
     },
     "execution_count": 14,
     "metadata": {},
     "output_type": "execute_result"
    }
   ],
   "source": [
    "# menghitung banyaknya jumlah anggota yang sama \n",
    "\n",
    "# count digunakan untuk menghitung\n",
    "# variabel.count(angka yang ingin dihitung banyaknya)\n",
    "bilangan_prima.count(7)\n",
    "# jumlah dari bilangan 7 hanya ada satu"
   ]
  },
  {
   "cell_type": "code",
   "execution_count": 15,
   "id": "cd2a32af",
   "metadata": {},
   "outputs": [
    {
     "data": {
      "text/plain": [
       "0"
      ]
     },
     "execution_count": 15,
     "metadata": {},
     "output_type": "execute_result"
    }
   ],
   "source": [
    "# menghitung banyaknya jumlah anggota yang sama \n",
    "\n",
    "# count digunakan untuk menghitung\n",
    "# variabel.count(angka yang ingin dihitung banyaknya)\n",
    "bilangan_prima.count(5)\n",
    "# 5 tidak termasuk anggota dari variabel bilangan_prima\n",
    "# sehingga hasil yang muncul adalh 0"
   ]
  },
  {
   "cell_type": "code",
   "execution_count": 16,
   "id": "2a5eba13",
   "metadata": {},
   "outputs": [
    {
     "data": {
      "text/plain": [
       "2"
      ]
     },
     "execution_count": 16,
     "metadata": {},
     "output_type": "execute_result"
    }
   ],
   "source": [
    "# mencari tau urutan keberapa angka yang diinginkan\n",
    "\n",
    "# untuk mencari tau urutan dari angka yang dimasukan, kita menggunakan index\n",
    "# variabel.index(angka yang ingin dicari tau)\n",
    "bilangan_prima.index(7)\n",
    "# dilihat dari anggota variabel bilangan_prima, bahwa 7 berada di urutan ke 2\n",
    "# urutan dimulai dari 0"
   ]
  },
  {
   "cell_type": "code",
   "execution_count": 17,
   "id": "61c2aed7",
   "metadata": {},
   "outputs": [
    {
     "ename": "ValueError",
     "evalue": "tuple.index(x): x not in tuple",
     "output_type": "error",
     "traceback": [
      "\u001b[1;31m---------------------------------------------------------------------------\u001b[0m",
      "\u001b[1;31mValueError\u001b[0m                                Traceback (most recent call last)",
      "\u001b[1;32m~\\AppData\\Local\\Temp\\ipykernel_12828\\3995441371.py\u001b[0m in \u001b[0;36m<module>\u001b[1;34m\u001b[0m\n\u001b[0;32m      1\u001b[0m \u001b[1;31m# mencoba mencari index yang bukan menajdi anggota dari variabel bilangan_prima\u001b[0m\u001b[1;33m\u001b[0m\u001b[1;33m\u001b[0m\u001b[0m\n\u001b[1;32m----> 2\u001b[1;33m \u001b[0mbilangan_prima\u001b[0m\u001b[1;33m.\u001b[0m\u001b[0mindex\u001b[0m\u001b[1;33m(\u001b[0m\u001b[1;36m1\u001b[0m\u001b[1;33m)\u001b[0m\u001b[1;33m\u001b[0m\u001b[1;33m\u001b[0m\u001b[0m\n\u001b[0m\u001b[0;32m      3\u001b[0m \u001b[1;31m# hasilnya yang muncul adalah eror, karena 1 bukan anggota dari variabel bilangan_prima\u001b[0m\u001b[1;33m\u001b[0m\u001b[1;33m\u001b[0m\u001b[0m\n",
      "\u001b[1;31mValueError\u001b[0m: tuple.index(x): x not in tuple"
     ]
    }
   ],
   "source": [
    "# mencoba mencari index yang bukan menajdi anggota dari variabel bilangan_prima\n",
    "bilangan_prima.index(1)\n",
    "# hasilnya yang muncul adalah eror, karena 1 bukan anggota dari variabel bilangan_prima"
   ]
  },
  {
   "cell_type": "markdown",
   "id": "83a16da6",
   "metadata": {},
   "source": [
    "## 5.18 Dictionaries"
   ]
  },
  {
   "cell_type": "markdown",
   "id": "9dd45187",
   "metadata": {},
   "source": [
    "Dictionaries digunakan jika data nya terkait satu sama lain. Misalnya data\n",
    "seseorang yang terdiri dari umur, nama, tanggal lahir merupakan satu kesatuan\n",
    "data yang bersumber dari orang tersebut."
   ]
  },
  {
   "cell_type": "markdown",
   "id": "f4a9bdf8",
   "metadata": {},
   "source": [
    "#### Contoh Dictionaries"
   ]
  },
  {
   "cell_type": "code",
   "execution_count": 18,
   "id": "052c090d",
   "metadata": {},
   "outputs": [
    {
     "name": "stdout",
     "output_type": "stream",
     "text": [
      "Nyoman Paul\n"
     ]
    }
   ],
   "source": [
    "# menggunakan Dictionaries dengan data mahasiswa\n",
    "\n",
    "# masukan variavelnya \n",
    "# didalam variabel berisi data seperti nama, umur, dan lainnya\n",
    "# data tersebut dimasukan kedalam tanda {}\n",
    "# seperti contoh dibawah ini\n",
    "data_mahasiswa = {\n",
    "    \"nama\" : \"Nyoman Paul\",\n",
    "    \"umur\" : 19, \n",
    "    \"apakah_prodi_matematika\" : False\n",
    "}\n",
    "\n",
    "# kemudian coba untuk memanggil nama dari varaibel data_mahasiswa\n",
    "# print(variabel[\"data yang ingin dipanggil\"])\n",
    "# jangan lupa untuk memberi tanda [] dan \"\" atau ''\n",
    "print (data_mahasiswa[\"nama\"])\n",
    "# hasil yang muncul adalah data nama yaitu Nyoman Paul"
   ]
  },
  {
   "cell_type": "code",
   "execution_count": 19,
   "id": "c80efe88",
   "metadata": {},
   "outputs": [
    {
     "ename": "KeyError",
     "evalue": "'Nama'",
     "output_type": "error",
     "traceback": [
      "\u001b[1;31m---------------------------------------------------------------------------\u001b[0m",
      "\u001b[1;31mKeyError\u001b[0m                                  Traceback (most recent call last)",
      "\u001b[1;32m~\\AppData\\Local\\Temp\\ipykernel_12828\\3536313907.py\u001b[0m in \u001b[0;36m<module>\u001b[1;34m\u001b[0m\n\u001b[0;32m      4\u001b[0m \u001b[1;31m# print (variabel['data yang ingin dipanggil'])\u001b[0m\u001b[1;33m\u001b[0m\u001b[1;33m\u001b[0m\u001b[0m\n\u001b[0;32m      5\u001b[0m \u001b[1;31m# jangan lupa untuk memberi tanda [] dan \"\" atau ''\u001b[0m\u001b[1;33m\u001b[0m\u001b[1;33m\u001b[0m\u001b[0m\n\u001b[1;32m----> 6\u001b[1;33m \u001b[0mprint\u001b[0m \u001b[1;33m(\u001b[0m\u001b[0mdata_mahasiswa\u001b[0m\u001b[1;33m[\u001b[0m\u001b[1;34m'Nama'\u001b[0m\u001b[1;33m]\u001b[0m\u001b[1;33m)\u001b[0m\u001b[1;33m\u001b[0m\u001b[1;33m\u001b[0m\u001b[0m\n\u001b[0m\u001b[0;32m      7\u001b[0m \u001b[1;31m# maka yang terjadi adalah eror, karena yang data yang dimasukan dalam variabel nama bukan Nama\u001b[0m\u001b[1;33m\u001b[0m\u001b[1;33m\u001b[0m\u001b[0m\n",
      "\u001b[1;31mKeyError\u001b[0m: 'Nama'"
     ]
    }
   ],
   "source": [
    "# penggunaan huruf besar atau kecil itu berpengaruh terhadap kodenya\n",
    "# misal kita akan memanggil Nama bukan nama dari data tersebut \n",
    "\n",
    "# print (variabel['data yang ingin dipanggil'])\n",
    "# jangan lupa untuk memberi tanda [] dan \"\" atau ''\n",
    "print (data_mahasiswa['Nama'])\n",
    "# maka yang terjadi adalah eror, karena yang data yang dimasukan dalam variabel nama bukan Nama"
   ]
  },
  {
   "cell_type": "code",
   "execution_count": 20,
   "id": "fb9de7aa",
   "metadata": {},
   "outputs": [
    {
     "name": "stdout",
     "output_type": "stream",
     "text": [
      "Nyoman Paul\n"
     ]
    }
   ],
   "source": [
    "# selain cara diatas untuk memanggil suatu data\n",
    "# terdapat cara lain, yaitu dengan menggunakan get\n",
    "\n",
    "# print(variabel.get(\"data yang ingin dipanggil\"))\n",
    "# perbedaan yang terlihat juga dengan penggunaan tanda kurung yang berbeda\n",
    "print (data_mahasiswa.get(\"nama\"))"
   ]
  },
  {
   "cell_type": "code",
   "execution_count": 21,
   "id": "519107a4",
   "metadata": {},
   "outputs": [
    {
     "name": "stdout",
     "output_type": "stream",
     "text": [
      "None\n"
     ]
    }
   ],
   "source": [
    "# memanggil data dengan menggunakan get\n",
    "# untuk contoh ini saya, saya memberikan contoh yang salah\n",
    "# penggunaan huruf besar atau kecil itu berpengaruh terhadap kodenya\n",
    "# misal kita akan memanggil Nama bukan nama dari data tersebut \n",
    "\n",
    "# print(variabel.get(\"data yang ingin dipanggil\"))\n",
    "print (data_mahasiswa.get(\"Nama\"))\n",
    "# untuk contoh ini hasil yang kleuar tidak eror, melainkan none\n",
    "# yang dimana data yang dipanggil adalah Nama, sedangkan dalam variabel data_mahasiswa tidak ada data berupa Nama"
   ]
  },
  {
   "cell_type": "code",
   "execution_count": 22,
   "id": "9b63ff94",
   "metadata": {},
   "outputs": [
    {
     "name": "stdout",
     "output_type": "stream",
     "text": [
      "None\n"
     ]
    }
   ],
   "source": [
    "# mencoba memanggil data yang tidak dimasukan kedalam variabel\n",
    "# disini akan mencoba memanggil data tanggal lahir\n",
    "print (data_mahasiswa.get(\"tanggal lahir\"))\n",
    "# maka hasil yang muncul adalah none, karena tidak ada data berupa tanggal lahir didalam variabel data_mahasiswa\n",
    "# karena tidak ada data tanggal lahir, maka hasil yang muncul adalah none"
   ]
  },
  {
   "cell_type": "code",
   "execution_count": 23,
   "id": "0c8be3fa",
   "metadata": {},
   "outputs": [
    {
     "name": "stdout",
     "output_type": "stream",
     "text": [
      "16 Juni 2001\n"
     ]
    }
   ],
   "source": [
    "# memanggil data baru dengan langsung menambahkan datanya, dengan menggunakan get\n",
    "# menambahkan data tanggal lahir pada variabel data mahasiswa\n",
    "\n",
    "# print(variabael.get(\"tanggal_lahir\", \"masukan tanggal lahir\"))\n",
    "# jangan lupa tanda '' atau \"\"\n",
    "print(data_mahasiswa.get(\"tanggal_lahir\", \"16 Juni 2001\"))\n",
    "# untuk contoh ini memunculkan tanggal lahr dan juga menambahkannya\n",
    "# karena yang dipanggil hanya tanggal lahir, maka output yang dihasilkan berupa tanggal lahir saja"
   ]
  },
  {
   "cell_type": "code",
   "execution_count": 24,
   "id": "363829c4",
   "metadata": {},
   "outputs": [
    {
     "name": "stdout",
     "output_type": "stream",
     "text": [
      "{'nama': 'Nyoman Paul', 'umur': 19, 'apakah_prodi_matematika': False}\n"
     ]
    }
   ],
   "source": [
    "# memncoba memanggil data mahasiswa\n",
    "# membuktikan hasil yang muncul sudah sama dengan tanggal lahirnya atau belum\n",
    "\n",
    "# print(variabel)\n",
    "print (data_mahasiswa)\n",
    "# ternyata hasil yang muncul tidak dengan tanggal lahir\n",
    "# sesuai dengan data yang dimasukan pertama kali ke variabel data_mahasiswa\n",
    "# ini dikarenakan apabila menggunakan get hasilnya tidak menetap"
   ]
  },
  {
   "cell_type": "code",
   "execution_count": 25,
   "id": "55e320d4",
   "metadata": {},
   "outputs": [
    {
     "ename": "KeyError",
     "evalue": "'tanggal_lahir'",
     "output_type": "error",
     "traceback": [
      "\u001b[1;31m---------------------------------------------------------------------------\u001b[0m",
      "\u001b[1;31mKeyError\u001b[0m                                  Traceback (most recent call last)",
      "\u001b[1;32m~\\AppData\\Local\\Temp\\ipykernel_12828\\2846398623.py\u001b[0m in \u001b[0;36m<module>\u001b[1;34m\u001b[0m\n\u001b[0;32m      2\u001b[0m \u001b[1;33m\u001b[0m\u001b[0m\n\u001b[0;32m      3\u001b[0m \u001b[1;31m# print(variabel[\"tanggal-lahir\"])\u001b[0m\u001b[1;33m\u001b[0m\u001b[1;33m\u001b[0m\u001b[0m\n\u001b[1;32m----> 4\u001b[1;33m \u001b[0mprint\u001b[0m\u001b[1;33m(\u001b[0m\u001b[0mdata_mahasiswa\u001b[0m\u001b[1;33m[\u001b[0m\u001b[1;34m\"tanggal_lahir\"\u001b[0m\u001b[1;33m]\u001b[0m\u001b[1;33m)\u001b[0m\u001b[1;33m\u001b[0m\u001b[1;33m\u001b[0m\u001b[0m\n\u001b[0m\u001b[0;32m      5\u001b[0m \u001b[1;31m# ternyata hasil yang muncul adalah eror\u001b[0m\u001b[1;33m\u001b[0m\u001b[1;33m\u001b[0m\u001b[0m\n\u001b[0;32m      6\u001b[0m \u001b[1;31m# karena tanggal_lahir tidak ditemukan pada variabel data_mahasiswa\u001b[0m\u001b[1;33m\u001b[0m\u001b[1;33m\u001b[0m\u001b[0m\n",
      "\u001b[1;31mKeyError\u001b[0m: 'tanggal_lahir'"
     ]
    }
   ],
   "source": [
    "# memastikan apakah data tanggal lahir tidak masuk pada data variabel data_mahasiswa\n",
    "\n",
    "# print(variabel[\"tanggal-lahir\"])\n",
    "print(data_mahasiswa[\"tanggal_lahir\"])\n",
    "# ternyata hasil yang muncul adalah eror\n",
    "# karena tanggal_lahir tidak ditemukan pada variabel data_mahasiswa"
   ]
  },
  {
   "cell_type": "code",
   "execution_count": 26,
   "id": "4e9668af",
   "metadata": {},
   "outputs": [],
   "source": [
    "# CONTOH YANG BENAR APABILA MENAMBAHKAN DATA PADA SUATU VARIABEL\n",
    "\n",
    "# variabel[\"data yang ingin ditambahkan\"] = \"isi datanya\"\n",
    "data_mahasiswa[\"HP\"] = '08123456789'"
   ]
  },
  {
   "cell_type": "code",
   "execution_count": 27,
   "id": "5eeeb5f7",
   "metadata": {},
   "outputs": [
    {
     "name": "stdout",
     "output_type": "stream",
     "text": [
      "08123456789\n"
     ]
    }
   ],
   "source": [
    "# memastikan apakah HP sudah terdaftar di variabel data_mahasiswa\n",
    "\n",
    "# print (variabel[\"data yang ingin dipanggil\"])\n",
    "print (data_mahasiswa[\"HP\"])\n",
    "# hasil yang muncul adalah no HP yang sudah dimasukan sebelumnya\n",
    "# sehingga terbukti bahwa HP merupakan data dari variabel data_mahasiswa"
   ]
  },
  {
   "cell_type": "code",
   "execution_count": 28,
   "id": "8bbd6a3d",
   "metadata": {},
   "outputs": [
    {
     "ename": "SyntaxError",
     "evalue": "invalid syntax (3080644831.py, line 5)",
     "output_type": "error",
     "traceback": [
      "\u001b[1;36m  File \u001b[1;32m\"C:\\Users\\Intan\\AppData\\Local\\Temp\\ipykernel_12828\\3080644831.py\"\u001b[1;36m, line \u001b[1;32m5\u001b[0m\n\u001b[1;33m    print (data_mahasiswa)1\u001b[0m\n\u001b[1;37m                          ^\u001b[0m\n\u001b[1;31mSyntaxError\u001b[0m\u001b[1;31m:\u001b[0m invalid syntax\n"
     ]
    }
   ],
   "source": [
    "# membuktikan hasil yang muncul apabila memanggil variabel data_mahasiswa\n",
    "# apakah data HP akan muncul atau tidak\n",
    "\n",
    "# print (variabel yang ingin dipanggil)\n",
    "print (data_mahasiswa)1\n",
    "# terbukti bahwa data HP termasuk dalam variabel data_mahasiswa"
   ]
  },
  {
   "cell_type": "markdown",
   "id": "b5a9c61e",
   "metadata": {},
   "source": [
    "## 5.19 Fungsi dalam Python"
   ]
  },
  {
   "cell_type": "markdown",
   "id": "8131a52d",
   "metadata": {},
   "source": [
    "Sampai sejauh ini tanpa disadari kita telah menerapkan beberapa jenis fungsi\n",
    "pada Python seperti fungsi input, print, len, range, dll. Pada dasarnya fungsi\n",
    "dibentuk untuk menghidari pengulangan pembuatan program secara manual\n",
    "dimana fungsi tersebut memiliki pengulangan yang tinggi dalam program yang\n",
    "kita buat. Jadi untuk mempermudah dan meringkas program yang kita buat,\n",
    "setiap fungsi tersebut dibutuhkan tinggal kita panggil."
   ]
  },
  {
   "cell_type": "markdown",
   "id": "ef0bcffa",
   "metadata": {},
   "source": [
    "#### Contoh fungsi dalam Python"
   ]
  },
  {
   "cell_type": "code",
   "execution_count": 29,
   "id": "952accbd",
   "metadata": {},
   "outputs": [],
   "source": [
    "# dalam contoh ini, akan membuat fungsi dalam Python\n",
    "# disini akan menggunakan def\n",
    "# contoh ini berupa nama lengkap, yang berisi nama depan dan nama belakang\n",
    "\n",
    "# def variabel nama lengkap(nama depan,nama belakang) :\n",
    "# jangan lupa untuk memberi tanda :\n",
    "def full_name(first_name,last_name) :\n",
    "\n",
    "# dengan memunculkan hasil gabungan dari nama depan dan nama belakang atau disebut nama lengkap\n",
    "# untuk bagian ini akan menjorok sedikit kedalam\n",
    "# print (f\"kata yang ingin ditampilkan {variabel 1} {variabel 2})\n",
    "# f digunakan untuk menggabungkan variabelnya\n",
    "    print (f\"Nama lengkapnya adalah {first_name} {last_name}\")\n",
    "# ketika di run, kode ini memang tidak menampilkan output\n",
    "# karena hanya berupa fungsi"
   ]
  },
  {
   "cell_type": "code",
   "execution_count": 31,
   "id": "d570732f",
   "metadata": {},
   "outputs": [
    {
     "name": "stdout",
     "output_type": "stream",
     "text": [
      "Nama depan anda adalah intan\n",
      "Nama belakang anda adalah pratiwi\n",
      "Nama lengkapnya adalah intan pratiwi\n"
     ]
    }
   ],
   "source": [
    "# Disini akan memunculkan hasil dari fungsi diatas \n",
    "# dengan konsepnya menggunakan input\n",
    "# memasukan nama depan dan nama belakang\n",
    "\n",
    "# variabel 1 = input (\"kata yang ingin ditampilkan\")\n",
    "# selalu ingat menggunakan tanda \"\"\n",
    "first_name = input(\"Nama depan anda adalah \")\n",
    "\n",
    "# variabel 2 = input (\"kata yang ingin ditampilkan\")\n",
    "# selalu ingat menggunakan tanda \"\"\n",
    "last_name = input(\"Nama belakang anda adalah \")\n",
    "\n",
    "# untuk menampilkan nama lengkapnya tidak menggunakan input lagi\n",
    "# menggunakan fungsi diatas yang sudah dibuat sebelumnya\n",
    "full_name(first_name,last_name)"
   ]
  },
  {
   "cell_type": "markdown",
   "id": "a2d10775",
   "metadata": {},
   "source": [
    "### 5.19.1 Tugas Fungsi pada Python"
   ]
  },
  {
   "cell_type": "markdown",
   "id": "404fa911",
   "metadata": {},
   "source": [
    "Ada dua jenis tugas fungsi pada Python yaitu:\n",
    "1. Menjalankan perintah.\n",
    "2. Menampilkan hasil perhitungan."
   ]
  },
  {
   "cell_type": "markdown",
   "id": "2f750e67",
   "metadata": {},
   "source": [
    "#### Contoh Tugas Fungsi pada Python "
   ]
  },
  {
   "cell_type": "code",
   "execution_count": 32,
   "id": "aeed6120",
   "metadata": {},
   "outputs": [],
   "source": [
    "# kata kucinya terdapat di def\n",
    "# dimana def menjadi pertanda bahwa kode berupa fungsi\n",
    "\n",
    "# def nama fungsi(parameter): \n",
    "    # disini berisi statements\n",
    "def luas_segitiga(alas,tinggi):\n",
    "# luas dari segitiga adalah 1/2 x alas x tinggi\n",
    "# dimana 1/2 bisa diganti menajdi 0.5\n",
    "# tanda x menggunakan simbol *\n",
    "    luas = 0.5 * alas * tinggi\n",
    "# selanjutnya adalah dengan menampilakn luas nya\n",
    "    print(luas)\n",
    "# dimana ini sebuah fungsi, tidak menampilkan output"
   ]
  },
  {
   "cell_type": "code",
   "execution_count": 33,
   "id": "f4c3b99f",
   "metadata": {},
   "outputs": [],
   "source": [
    "# Fungsi mengembalikan nilai (return)\n",
    "# fungsi yang mengembalikan nilai adalah sebuah fungsi yang jika kita panggil, \n",
    "# dia akan memberikan nilai kita sebuah nilai yang bisa kita olah lebih lanjut\n",
    "def luas_segitiga_baru(alas,tinggi) :\n",
    "    luas = 0.5 * alas * tinggi\n",
    "# return berfungsi untuk mengemblikan nilai\n",
    "    return luas"
   ]
  },
  {
   "cell_type": "code",
   "execution_count": 34,
   "id": "d3c40582",
   "metadata": {},
   "outputs": [
    {
     "name": "stdout",
     "output_type": "stream",
     "text": [
      "15.0\n"
     ]
    }
   ],
   "source": [
    "# memanggil luas segitiga dengan alas = 6 dan tinggi = 5\n",
    "# nama fungsi(parameternya)\n",
    "luas_segitiga(6,5)\n",
    "# maka output yang muncul adalah hasil dari luas segitiga dengan alas = 6 dan tinggi = 5"
   ]
  },
  {
   "cell_type": "code",
   "execution_count": 35,
   "id": "0faf67cb",
   "metadata": {},
   "outputs": [
    {
     "data": {
      "text/plain": [
       "15.0"
      ]
     },
     "execution_count": 35,
     "metadata": {},
     "output_type": "execute_result"
    }
   ],
   "source": [
    "# disini mencoba untuk menggunakan fungsi mengembalikan nilai atau return\n",
    "# nama fungsi yang return(parameter)\n",
    "luas_segitiga_baru(6,5)\n",
    "# maka output yang muncul akan sama dengan fungsi sebelumnya atau dengan kode diatasnya"
   ]
  },
  {
   "cell_type": "code",
   "execution_count": 36,
   "id": "10d61750",
   "metadata": {},
   "outputs": [
    {
     "name": "stdout",
     "output_type": "stream",
     "text": [
      "15.0\n",
      "None\n"
     ]
    }
   ],
   "source": [
    "# disini akan memberikan variabel pada luas segitiga yaitu a\n",
    "# variabel = nama fungsi (parameter)\n",
    "a = luas_segitiga(6,5)\n",
    "# kemudia kita coba untuk print\n",
    "print (a)\n",
    "# maka hasil yang muncul adalah tetap sama yaitu 15, tetapi dengan tambahan none"
   ]
  },
  {
   "cell_type": "code",
   "execution_count": 37,
   "id": "0145fa6c",
   "metadata": {},
   "outputs": [
    {
     "name": "stdout",
     "output_type": "stream",
     "text": [
      "15.0\n"
     ]
    }
   ],
   "source": [
    "# pada percobaan fungsi return\n",
    "# disini akan memberikan variabel pada luas segitiga baru yaitu b\n",
    "# variabel = nama fungsi return (parameter)\n",
    "b = luas_segitiga_baru(6,5)\n",
    "# kemudian kita coba print\n",
    "print (b)\n",
    "# maka outputnya sama dengan sebelumnya yaitu 15\n",
    "# tetapi bedanya disini tidak menampilkan none"
   ]
  },
  {
   "cell_type": "markdown",
   "id": "267dd68b",
   "metadata": {},
   "source": [
    "##  5.20 Numpy"
   ]
  },
  {
   "cell_type": "markdown",
   "id": "558a2eac",
   "metadata": {},
   "source": [
    "Numpy merupakan salah satu Library dalam Python yang memiliki keunggulan\n",
    "dalam perhitungan menggunakan vektor dam matrik dalam berbagai dimensi."
   ]
  },
  {
   "cell_type": "code",
   "execution_count": 38,
   "id": "2531241d",
   "metadata": {},
   "outputs": [],
   "source": [
    "# Hal pertama yang perlu dilakukan adalah memanggil Library Numpy sebagai berikut:\n",
    "import pandas as pd"
   ]
  },
  {
   "cell_type": "code",
   "execution_count": 39,
   "id": "36cc42d1",
   "metadata": {},
   "outputs": [],
   "source": [
    "import numpy"
   ]
  },
  {
   "cell_type": "markdown",
   "id": "9fce75ea",
   "metadata": {},
   "source": [
    "### 5.20.1 Perintah Dasar pada Numpy"
   ]
  },
  {
   "cell_type": "markdown",
   "id": "c2458bcd",
   "metadata": {},
   "source": [
    "Berikut akan dipaparkan mengenai beberapa perintah dalam Numpy diantaranya\n",
    "memanggil Numpy, mengetahui dimensi dan ukuran variabel"
   ]
  },
  {
   "cell_type": "code",
   "execution_count": 40,
   "id": "c093c406",
   "metadata": {},
   "outputs": [
    {
     "name": "stdout",
     "output_type": "stream",
     "text": [
      "[0 1 2 3 4]\n"
     ]
    }
   ],
   "source": [
    "# contoh 1\n",
    "# masukan nama variabel yang diinginkan\n",
    "# gunakan fungsi numpy yang sudah diinisiasikan sebelumnya yaitu numpy\n",
    "# kemudian diikuti fungsi array \n",
    "# diikuti kurung dua () yang diisi dengan nilai array dalam kurung siku []\n",
    "a = numpy.array([0,1,2,3,4])\n",
    "print (a)\n",
    "# pada a, dimensi nilai yang diisikan hanya dalam satu baris\n",
    "# perlu diingat nilai array hanya berisi satu tipe data yang sama"
   ]
  },
  {
   "cell_type": "code",
   "execution_count": 41,
   "id": "c8f93558",
   "metadata": {},
   "outputs": [
    {
     "name": "stdout",
     "output_type": "stream",
     "text": [
      "[[5 6 7 8]\n",
      " [9 8 7 6]]\n"
     ]
    }
   ],
   "source": [
    "# contoh 2\n",
    "# penulisannya masih sama dengan contoh 1\n",
    "# yang membedakan adalah pada isi array yang berisi dua baris data dengan jumlah yang sana\n",
    "\n",
    "# masukan nama variabel yang diinginkan\n",
    "# gunakan fungsi numpy yang sudah diinisiasikan sebelumnya yaitu numpy\n",
    "# kemudian diikuti fungsi array \n",
    "# diikuti kurung dua () yang diisi dengan nilai array dalam kurung siku []\n",
    "b = numpy.array([[5,6,7,8],[9,8,7,6]])\n",
    "print(b)\n",
    "# pada b, dimensi nilai yang diisikan hanya dalam dua baris\n",
    "# perlu diingat nilai array hanya berisi satu tipe data yang sama"
   ]
  },
  {
   "cell_type": "code",
   "execution_count": 42,
   "id": "346234be",
   "metadata": {},
   "outputs": [
    {
     "name": "stdout",
     "output_type": "stream",
     "text": [
      "[[[0 1 2 3]\n",
      "  [4 5 6 7]]\n",
      "\n",
      " [[8 9 8 7]\n",
      "  [6 5 4 3]]\n",
      "\n",
      " [[1 2 3 4]\n",
      "  [5 6 7 8]]]\n"
     ]
    }
   ],
   "source": [
    "# contoh 3\n",
    "# penulisannya masih sama dengan contoh sebelumnya\n",
    "# yang membedakan adalah pada isi array yang berisi 3 dimensi dengan dua baris data dan jumlah yang sana\n",
    "\n",
    "# masukan nama variabel yang diinginkan\n",
    "# gunakan fungsi numpy yang sudah diinisiasikan sebelumnya yaitu numpy\n",
    "# kemudian diikuti fungsi array \n",
    "# diikuti kurung dua () yang diisi dengan nilai array dalam kurung siku []\n",
    "c = numpy.array([[[0,1,2,3],[4,5,6,7]],[[8,9,8,7],[6,5,4,3]],[[1,2,3,4],[5,6,7,8]]])\n",
    "print(c)"
   ]
  },
  {
   "cell_type": "markdown",
   "id": "524054bd",
   "metadata": {},
   "source": [
    ".ndim berfungsi untuk menghitung dimensi array"
   ]
  },
  {
   "cell_type": "code",
   "execution_count": 43,
   "id": "c28f083c",
   "metadata": {},
   "outputs": [
    {
     "data": {
      "text/plain": [
       "1"
      ]
     },
     "execution_count": 43,
     "metadata": {},
     "output_type": "execute_result"
    }
   ],
   "source": [
    "# menghitung dimensi array dari contoh 1\n",
    "a.ndim\n",
    "# karena hanya terdiri dari 1 baris"
   ]
  },
  {
   "cell_type": "code",
   "execution_count": 44,
   "id": "6cb6ef45",
   "metadata": {},
   "outputs": [
    {
     "data": {
      "text/plain": [
       "2"
      ]
     },
     "execution_count": 44,
     "metadata": {},
     "output_type": "execute_result"
    }
   ],
   "source": [
    "# menghitung dimensi array dari contoh 2\n",
    "b.ndim\n",
    "# karena pada contoh 2, terdiri dari 2 baris"
   ]
  },
  {
   "cell_type": "code",
   "execution_count": 45,
   "id": "d33abdcc",
   "metadata": {},
   "outputs": [
    {
     "data": {
      "text/plain": [
       "3"
      ]
     },
     "execution_count": 45,
     "metadata": {},
     "output_type": "execute_result"
    }
   ],
   "source": [
    "# menghitung dimensi array dari contoh 3\n",
    "c.ndim\n",
    "# pada contoh 3 terdiri dari 3 baris, yang dimana setiap baris memiliki baris lagi sebnyak 2 baris"
   ]
  },
  {
   "cell_type": "markdown",
   "id": "b0b7c19c",
   "metadata": {},
   "source": [
    ".shape berfungsi menghitung isi dari array"
   ]
  },
  {
   "cell_type": "code",
   "execution_count": 46,
   "id": "37cafa5b",
   "metadata": {},
   "outputs": [
    {
     "data": {
      "text/plain": [
       "(5,)"
      ]
     },
     "execution_count": 46,
     "metadata": {},
     "output_type": "execute_result"
    }
   ],
   "source": [
    "# menghitung isi array dari contoh 1\n",
    "a.shape\n",
    "# pada contoh 1 banyaknya elemen adalah 5, dengan terdiri dari 1 baris\n",
    "# kerena hanya satu baris, maka yang muncul hanya (5,)"
   ]
  },
  {
   "cell_type": "code",
   "execution_count": 47,
   "id": "936dbe13",
   "metadata": {},
   "outputs": [
    {
     "data": {
      "text/plain": [
       "(2, 4)"
      ]
     },
     "execution_count": 47,
     "metadata": {},
     "output_type": "execute_result"
    }
   ],
   "source": [
    "# menghitung isi array dari contoh 1\n",
    "b.shape\n",
    "# banyaknya dimensi adalah 2 baris\n",
    "# banyaknya elemen disetiap dimensi adalah 4 "
   ]
  },
  {
   "cell_type": "code",
   "execution_count": 48,
   "id": "70ff8acf",
   "metadata": {},
   "outputs": [
    {
     "data": {
      "text/plain": [
       "(3, 2, 4)"
      ]
     },
     "execution_count": 48,
     "metadata": {},
     "output_type": "execute_result"
    }
   ],
   "source": [
    "# menghitung isi array dari contoh 3\n",
    "c.shape\n",
    "# pada contoh 3 banyaknya dimensi adalah 3 \n",
    "# pada setiap dimensi terdiri dari 2 baris \n",
    "# banyaknya elemen di setiap baris berjumlah 4"
   ]
  },
  {
   "cell_type": "markdown",
   "id": "55df3bc8",
   "metadata": {},
   "source": [
    "### 5.20.2 Memanggil Anggota, Kolom dan Baris dengan Numpy"
   ]
  },
  {
   "cell_type": "code",
   "execution_count": 49,
   "id": "4179f21f",
   "metadata": {},
   "outputs": [
    {
     "name": "stdout",
     "output_type": "stream",
     "text": [
      "[[10 11 12 13]\n",
      " [15 16 17 18]\n",
      " [20 21 22 23]]\n"
     ]
    }
   ],
   "source": [
    "# masukan variabel\n",
    "# gunakan fungsi numpy yang sudah diinisiasikan sebelumnya yaitu numpy\n",
    "# kemudian diikuti fungsi array \n",
    "# diikuti kurung dua () yang diisi dengan nilai array dalam kurung siku []\n",
    "x = numpy.array([[10,11,12,13],[15,16,17,18],[20,21,22,23]])\n",
    "print (x)"
   ]
  },
  {
   "cell_type": "code",
   "execution_count": 50,
   "id": "ef960226",
   "metadata": {},
   "outputs": [
    {
     "data": {
      "text/plain": [
       "20"
      ]
     },
     "execution_count": 50,
     "metadata": {},
     "output_type": "execute_result"
    }
   ],
   "source": [
    "# memanggil salah satu anggota\n",
    "# masukan variabel yang diikuti baris dan kolomx yang berada didalam kurung []\n",
    "x[2,0]\n",
    "# pada contoh diatas, urutan baris dan kolom dimulai dari 0\n",
    "# kolom yang bentuknya horizontal (kiri-kanan)\n",
    "# dan baris bentuknya vertikal (atas-bawah)"
   ]
  },
  {
   "cell_type": "code",
   "execution_count": 51,
   "id": "1654e2c9",
   "metadata": {},
   "outputs": [
    {
     "data": {
      "text/plain": [
       "array([15, 16, 17, 18])"
      ]
     },
     "execution_count": 51,
     "metadata": {},
     "output_type": "execute_result"
    }
   ],
   "source": [
    "# memanggil baris\n",
    "# masukan variabelnya [baris, kolom]\n",
    "# urutan baris dan kolom dimulai dari 0\n",
    "x[1,:]\n",
    "# kode diatas itu memanggil baris urutan 1 beserta semua elemennya\n",
    "# tanda : maksudnya memanggil semua di barisan 1 secara horizontal"
   ]
  },
  {
   "cell_type": "code",
   "execution_count": 52,
   "id": "7be45fd7",
   "metadata": {},
   "outputs": [
    {
     "data": {
      "text/plain": [
       "array([10, 15, 20])"
      ]
     },
     "execution_count": 52,
     "metadata": {},
     "output_type": "execute_result"
    }
   ],
   "source": [
    "# memanggil kolom\n",
    "# masukan variabelnya [baris, kolom]\n",
    "# urutan baris dan kolom dimulai dari 0\n",
    "x[:,0]\n",
    "# kode diatas memanggil semua barisan di kolom 0\n",
    "# semua elemen di kolom 0 dipanggil"
   ]
  },
  {
   "cell_type": "code",
   "execution_count": 53,
   "id": "7dcc4612",
   "metadata": {},
   "outputs": [
    {
     "data": {
      "text/plain": [
       "array([21, 22])"
      ]
     },
     "execution_count": 53,
     "metadata": {},
     "output_type": "execute_result"
    }
   ],
   "source": [
    "# memanggil anggota tertentu\n",
    "# masukan variabelnya [baris, interval kolom]\n",
    "# urutan baris dan kolom dimulai dari 0\n",
    "x[2,1:3]\n",
    "# kode diatas memanggil anggota di barisan ke 2, dengan batas kolom dari urutan 1 sampai urutan 2"
   ]
  },
  {
   "cell_type": "code",
   "execution_count": 54,
   "id": "25188009",
   "metadata": {},
   "outputs": [
    {
     "data": {
      "text/plain": [
       "array([10, 12])"
      ]
     },
     "execution_count": 54,
     "metadata": {},
     "output_type": "execute_result"
    }
   ],
   "source": [
    "# memanggil anggota tertentu\n",
    "# masukan variabelnya [baris, interval kolom]\n",
    "# urutan baris dan kolom dimulai dari 0\n",
    "x[0,0:3:2]\n",
    "# kode diatas memanggil anggota di barisan ke 0\n",
    "# dengan batasan dari kolom ke 0 sampai 2, dengan 2 loncatan"
   ]
  },
  {
   "cell_type": "code",
   "execution_count": 55,
   "id": "af6eee5a",
   "metadata": {},
   "outputs": [
    {
     "name": "stdout",
     "output_type": "stream",
     "text": [
      "[[ 10  11 200  13]\n",
      " [ 15  16  17  18]\n",
      " [ 20  21  22  23]]\n"
     ]
    }
   ],
   "source": [
    "# merubah atau mengganti salah satu anggota\n",
    "# masukan variabelnya [baris, kolom] = angka yang ingin di isi\n",
    "# urutan baris dan kolom dimulai dari 0\n",
    "x[0,2] = 200\n",
    "# kemudian print variabel, untuk mencetak hasilnya\n",
    "print(x)\n",
    "# sehingga hasil yang muncul adalah barisan ke 0, kolom ke 2 yang sudah diperbarui"
   ]
  },
  {
   "cell_type": "markdown",
   "id": "e6320b4c",
   "metadata": {},
   "source": [
    "### 5.20.3 Matrix pada Numpy"
   ]
  },
  {
   "cell_type": "markdown",
   "id": "d2e66d2e",
   "metadata": {},
   "source": [
    "Numpy dapat digunakan untuk membuat berbagai jenis matrix"
   ]
  },
  {
   "cell_type": "code",
   "execution_count": 56,
   "id": "5ea90549",
   "metadata": {},
   "outputs": [],
   "source": [
    "import numpy"
   ]
  },
  {
   "cell_type": "code",
   "execution_count": 57,
   "id": "f68632c9",
   "metadata": {},
   "outputs": [
    {
     "data": {
      "text/plain": [
       "array([[4, 3, 5, 5],\n",
       "       [9, 9, 4, 9],\n",
       "       [8, 7, 7, 7]])"
      ]
     },
     "execution_count": 57,
     "metadata": {},
     "output_type": "execute_result"
    }
   ],
   "source": [
    "numpy.ones((2,3))\n",
    "numpy.zeros((3,2))\n",
    "numpy.identity(4)\n",
    "numpy.ones((2,3,4))\n",
    "numpy.full((3,2),9)\n",
    "numpy.random.rand(4,3)\n",
    "numpy.random.randint(1,10,size=(3,4))"
   ]
  },
  {
   "cell_type": "markdown",
   "id": "6a9800e5",
   "metadata": {},
   "source": [
    "### Copy pada Numpy"
   ]
  },
  {
   "cell_type": "markdown",
   "id": "6399fdec",
   "metadata": {},
   "source": [
    "Sering sekali kita menduplikat suatu variabel dengan maksud untuk mempercepat pekerjaan kita. Akan tetapi sering tanpa disadari ikatan persamaan\n",
    "dalam Numpy sedemikian eratnya sehingga saat anggota variabel baru dirubah,\n",
    "dampaknya juga akan merubah variabel asal. Untuk menghindari perubahan\n",
    "variabel awal yang tidak dikehendaki maka diperlukan perintah copy"
   ]
  },
  {
   "cell_type": "code",
   "execution_count": 58,
   "id": "49ee9ca1",
   "metadata": {},
   "outputs": [
    {
     "name": "stdout",
     "output_type": "stream",
     "text": [
      "[ 7  8  9 10 11]\n"
     ]
    }
   ],
   "source": [
    "# memasukan variabel p\n",
    "# gunakan fungsi numpy yang sudah diinisiasikan sebelumnya yaitu numpy\n",
    "# kemudian diikuti fungsi array \n",
    "# diikuti kurung dua () yang diisi dengan nilai array dalam kurung siku []\n",
    "p = numpy.array([7,8,9,10,11])\n",
    "print (p)"
   ]
  },
  {
   "cell_type": "code",
   "execution_count": 59,
   "id": "d3a9751b",
   "metadata": {},
   "outputs": [
    {
     "name": "stdout",
     "output_type": "stream",
     "text": [
      "[ 7  8  9 10 11]\n"
     ]
    }
   ],
   "source": [
    "# contoh 1\n",
    "# disini copy numpy menggunakan persamaan\n",
    "# sebagai contoh, disini saya menggunakan q=p\n",
    "\n",
    "# masukan variabel baru, diikuti dengan = variabel yang ingin di copy\n",
    "q = p\n",
    "# karena ingin copy p, maka yang di print adalah q nya\n",
    "print (q)\n",
    "# sehingga hasil yang muncul adalah sama dengan p"
   ]
  },
  {
   "cell_type": "code",
   "execution_count": 60,
   "id": "3745a971",
   "metadata": {},
   "outputs": [
    {
     "name": "stdout",
     "output_type": "stream",
     "text": [
      "[ 7 15  9 10 11]\n"
     ]
    }
   ],
   "source": [
    "# ketika ingin mengganti salah satu anggotanya di q\n",
    "# masukan variabelnya diikuti dengan urutan yang ingin diganti, dengan tanda []\n",
    "# masukan angka baru\n",
    "q[1] = 15\n",
    "print (q)\n",
    "# sehingga hasil yang muncul adalah q dengan yang sudah diperbarui"
   ]
  },
  {
   "cell_type": "code",
   "execution_count": 61,
   "id": "86c3fed8",
   "metadata": {},
   "outputs": [
    {
     "name": "stdout",
     "output_type": "stream",
     "text": [
      "[ 7 15  9 10 11]\n"
     ]
    }
   ],
   "source": [
    "# sekarang kita coba untuk panggil p\n",
    "print (p)\n",
    "# ternyata hasil yang muncul adalah mengikuti q yang sudah diperbaarui\n",
    "# hal itu dikarenakan, berdasarkan variabel yang sudah dimasukan \n",
    "# bahwa p=q, jadi ketika q berubah maka p juga ikut berubah"
   ]
  },
  {
   "cell_type": "code",
   "execution_count": 62,
   "id": "94e62d89",
   "metadata": {},
   "outputs": [
    {
     "name": "stdout",
     "output_type": "stream",
     "text": [
      "[ 7  8  9 10 11]\n"
     ]
    }
   ],
   "source": [
    "# contoh 2\n",
    "# masukan variabel baru, yaitu r\n",
    "# gunakan fungsi numpy yang sudah diinisiasikan sebelumnya yaitu numpy\n",
    "# kemudian diikuti fungsi array \n",
    "# diikuti kurung dua () yang diisi dengan nilai array dalam kurung siku []\n",
    "r = numpy.array([7,8,9,10,11])\n",
    "print(r)"
   ]
  },
  {
   "cell_type": "code",
   "execution_count": 63,
   "id": "51146605",
   "metadata": {},
   "outputs": [
    {
     "name": "stdout",
     "output_type": "stream",
     "text": [
      "[ 7  8  9 10 11]\n"
     ]
    }
   ],
   "source": [
    "# disini akan membuat variabel baru dengan copy dari variabel r\n",
    "# dengan menggunakan .copy yang diikuti dengan tanda ()\n",
    "# berbeda dengan seblumnya\n",
    "s = r.copy()\n",
    "# kemudian kita coba untuk panggil s\n",
    "print (s)\n",
    "# maka hasil yang muncul adalah isi yang sama dengan r"
   ]
  },
  {
   "cell_type": "code",
   "execution_count": 64,
   "id": "65088681",
   "metadata": {},
   "outputs": [
    {
     "name": "stdout",
     "output_type": "stream",
     "text": [
      "[ 7 20  9 10 11]\n"
     ]
    }
   ],
   "source": [
    "# disini akan mengganti salah satu anggota di s\n",
    "# masukan variabelnya diikuti dengan urutan yang ingin diganti, dengan tanda []\n",
    "# masukan angka baru\n",
    "# ingat, urutan berawal dari 0\n",
    "s[1] = 20\n",
    "print(s)\n",
    "# hasil yang muncul adalah isi dari s yang sudah diperbarui"
   ]
  },
  {
   "cell_type": "code",
   "execution_count": 65,
   "id": "0bd7157b",
   "metadata": {},
   "outputs": [
    {
     "name": "stdout",
     "output_type": "stream",
     "text": [
      "[ 7  8  9 10 11]\n"
     ]
    }
   ],
   "source": [
    "# apakah contoh 2 sama dengan contoh 1?\n",
    "# yang ketika diganti maka variabel sebelumnya juga ikut berubah ?\n",
    "# disini akan membuktikan hal tersebut\n",
    "# mari coba untuk panggil r, variabel yang dicopy dengan s\n",
    "print (r)\n",
    "# terlihat hasil yang muncul tidak ada perubahan, r tidak mengikuti perubahan dari s\n",
    "\n",
    "## jadi itu yang membedakan dari contoh 1 dan contoh 2"
   ]
  },
  {
   "cell_type": "markdown",
   "id": "08ff0e2b",
   "metadata": {},
   "source": [
    "### 5.20.5 Operasi Matematika pada Numpy "
   ]
  },
  {
   "cell_type": "code",
   "execution_count": 66,
   "id": "cc891158",
   "metadata": {},
   "outputs": [],
   "source": [
    "import numpy"
   ]
  },
  {
   "cell_type": "code",
   "execution_count": 67,
   "id": "4b5917df",
   "metadata": {},
   "outputs": [
    {
     "data": {
      "text/plain": [
       "array([ 8,  9, 10, 11, 12])"
      ]
     },
     "execution_count": 67,
     "metadata": {},
     "output_type": "execute_result"
    }
   ],
   "source": [
    "# memasukan variabel p\n",
    "# gunakan fungsi numpy yang sudah diinisiasikan sebelumnya yaitu numpy\n",
    "# kemudian diikuti fungsi array \n",
    "# diikuti kurung dua () yang diisi dengan nilai array dalam kurung siku []\n",
    "p = numpy.array([7,8,9,10,11])\n",
    "p+1\n",
    "# hasil yang muncul adalah penjumlahan +1 di setiap anggotanya"
   ]
  },
  {
   "cell_type": "code",
   "execution_count": 68,
   "id": "5362f252",
   "metadata": {},
   "outputs": [
    {
     "data": {
      "text/plain": [
       "array([4, 5, 6, 7, 8])"
      ]
     },
     "execution_count": 68,
     "metadata": {},
     "output_type": "execute_result"
    }
   ],
   "source": [
    "# operasi pengurangan\n",
    "# variabel dikurang dengan jumlah yang diinginkan\n",
    "p-3\n",
    "# hasil yang muncul adalah pengurangan -3 di setiap anggota p"
   ]
  },
  {
   "cell_type": "code",
   "execution_count": 69,
   "id": "a7f61f03",
   "metadata": {},
   "outputs": [
    {
     "data": {
      "text/plain": [
       "array([14, 16, 18, 20, 22])"
      ]
     },
     "execution_count": 69,
     "metadata": {},
     "output_type": "execute_result"
    }
   ],
   "source": [
    "# operasi perkalian\n",
    "# simbol dalam perkalian adalah *\n",
    "# variabel*angka yang ingin dikalikan\n",
    "p*2\n",
    "# hasil yang muncul adalah perkalian, dikali 3 di setiap anggota p"
   ]
  },
  {
   "cell_type": "code",
   "execution_count": 70,
   "id": "3863b53a",
   "metadata": {},
   "outputs": [
    {
     "data": {
      "text/plain": [
       "array([3.5, 4. , 4.5, 5. , 5.5])"
      ]
     },
     "execution_count": 70,
     "metadata": {},
     "output_type": "execute_result"
    }
   ],
   "source": [
    "# operasi pembagian\n",
    "# yang digunakan dalam pembagian adalah /\n",
    "# variabel/angka yang ingin dibagi\n",
    "p/2\n",
    "# hasil yang muncul adalah pembagian, dibagi 2 di setiap anggota p"
   ]
  },
  {
   "cell_type": "code",
   "execution_count": 71,
   "id": "f6b3fd14",
   "metadata": {},
   "outputs": [
    {
     "data": {
      "text/plain": [
       "array([ 49,  64,  81, 100, 121], dtype=int32)"
      ]
     },
     "execution_count": 71,
     "metadata": {},
     "output_type": "execute_result"
    }
   ],
   "source": [
    "# operasi pemangkatan\n",
    "# simbol yang digunakan dalam pemangkatan adalah **\n",
    "p**2\n",
    "# hasil yang muncul adalah pemangkatan, dipangkat 2 di setiap anggota p"
   ]
  },
  {
   "cell_type": "code",
   "execution_count": 72,
   "id": "98ad393d",
   "metadata": {},
   "outputs": [
    {
     "name": "stdout",
     "output_type": "stream",
     "text": [
      "[5 6 7 8 9]\n"
     ]
    }
   ],
   "source": [
    "# dengan memasukan variabel baru lagi\n",
    "q = numpy.array([5,6,7,8,9])\n",
    "print (q)"
   ]
  },
  {
   "cell_type": "code",
   "execution_count": 73,
   "id": "e9113e32",
   "metadata": {},
   "outputs": [
    {
     "data": {
      "text/plain": [
       "array([12, 14, 16, 18, 20])"
      ]
     },
     "execution_count": 73,
     "metadata": {},
     "output_type": "execute_result"
    }
   ],
   "source": [
    "# penjumlahan diantara 2 variabel\n",
    "p+q\n",
    "# hasil yang muncul adalah operasi penjumlahan diantara sesama anggota p dan q, dengan berdasarkan urutannya"
   ]
  },
  {
   "cell_type": "code",
   "execution_count": 74,
   "id": "e1ba19bc",
   "metadata": {},
   "outputs": [
    {
     "data": {
      "text/plain": [
       "array([2, 2, 2, 2, 2])"
      ]
     },
     "execution_count": 74,
     "metadata": {},
     "output_type": "execute_result"
    }
   ],
   "source": [
    "# pengurangan diantara 2 variabel\n",
    "p-q\n",
    "# hasil yang muncul adalah operasi pengurangan diantara sesama anggota p dan q, dengan berdasarkan urutannya"
   ]
  },
  {
   "cell_type": "code",
   "execution_count": 75,
   "id": "4f8693c6",
   "metadata": {},
   "outputs": [
    {
     "data": {
      "text/plain": [
       "array([35, 48, 63, 80, 99])"
      ]
     },
     "execution_count": 75,
     "metadata": {},
     "output_type": "execute_result"
    }
   ],
   "source": [
    "# perkalian diantara 2 variabel\n",
    "p*q\n",
    "# hasil yang muncul adalah operasi perkalian diantara sesama anggota p dan q, dengan berdasarkan urutannya"
   ]
  },
  {
   "cell_type": "code",
   "execution_count": 76,
   "id": "db09670e",
   "metadata": {},
   "outputs": [
    {
     "data": {
      "text/plain": [
       "array([1.4       , 1.33333333, 1.28571429, 1.25      , 1.22222222])"
      ]
     },
     "execution_count": 76,
     "metadata": {},
     "output_type": "execute_result"
    }
   ],
   "source": [
    "# pembagian diantara 2 variabel\n",
    "p/q\n",
    "# hasil yang muncul adalah operasi pembagian diantara sesama anggota p dan q, dengan berdasarkan urutannya"
   ]
  },
  {
   "cell_type": "code",
   "execution_count": 77,
   "id": "178d6bd2",
   "metadata": {},
   "outputs": [
    {
     "data": {
      "text/plain": [
       "array([      16807,      262144,     4782969,   100000000, -1937019605],\n",
       "      dtype=int32)"
      ]
     },
     "execution_count": 77,
     "metadata": {},
     "output_type": "execute_result"
    }
   ],
   "source": [
    "# pemangkatan sesama 2 variabel\n",
    "p**q\n",
    "# hasil yang muncul adalah operasi pemangkatan sesama anggota p dan q, dengan berdasarkan urutannya"
   ]
  },
  {
   "cell_type": "code",
   "execution_count": 78,
   "id": "2892f76c",
   "metadata": {},
   "outputs": [
    {
     "data": {
      "text/plain": [
       "array([ 0.75390225, -0.14550003, -0.91113026, -0.83907153,  0.0044257 ])"
      ]
     },
     "execution_count": 78,
     "metadata": {},
     "output_type": "execute_result"
    }
   ],
   "source": [
    "# mencari nilai cos di setiap anggota p\n",
    "# gunakan fungsi numpy diikuti dengan .cos(variabel)\n",
    "numpy.cos(p)\n",
    "# maka hasil yang muncul adalah nilai cos di setiap anggota p"
   ]
  },
  {
   "cell_type": "code",
   "execution_count": 79,
   "id": "f5cbaaa4",
   "metadata": {},
   "outputs": [
    {
     "data": {
      "text/plain": [
       "array([ 0.6569866 ,  0.98935825,  0.41211849, -0.54402111, -0.99999021])"
      ]
     },
     "execution_count": 79,
     "metadata": {},
     "output_type": "execute_result"
    }
   ],
   "source": [
    "# mencari nilai sin di setiap anggota p\n",
    "# gunakan fungsi numpy diikuti dengan .sin(variabel)\n",
    "numpy.sin(p)\n",
    "# maka hasil yang muncul adalah nilai sin di setiap anggota p"
   ]
  },
  {
   "cell_type": "code",
   "execution_count": 80,
   "id": "ae8a46d7",
   "metadata": {},
   "outputs": [
    {
     "data": {
      "text/plain": [
       "array([   0.87144798,   -6.79971146,   -0.45231566,    0.64836083,\n",
       "       -225.95084645])"
      ]
     },
     "execution_count": 80,
     "metadata": {},
     "output_type": "execute_result"
    }
   ],
   "source": [
    "# mencari nilai tan di setiap anggota p\n",
    "# gunakan fungsi numpy diikuti dengan .tan(variabel)\n",
    "numpy.tan(p)\n",
    "# maka hasil yang muncul adalah nilai tan di setiap anggota p"
   ]
  },
  {
   "cell_type": "code",
   "execution_count": 81,
   "id": "d4180c98",
   "metadata": {},
   "outputs": [
    {
     "data": {
      "text/plain": [
       "array([  548.31612327,  1490.47882579,  4051.54190208, 11013.2328747 ,\n",
       "       29937.07084925])"
      ]
     },
     "execution_count": 81,
     "metadata": {},
     "output_type": "execute_result"
    }
   ],
   "source": [
    "# sinh merupakan fungsi hiperbolik\n",
    "numpy.sinh(p)"
   ]
  },
  {
   "cell_type": "markdown",
   "id": "91ef84cb",
   "metadata": {},
   "source": [
    "### 5.20.6 Perkalian Matrik pada Numpy"
   ]
  },
  {
   "cell_type": "markdown",
   "id": "6712cbb5",
   "metadata": {},
   "source": [
    "Dapat diamati bahwa operasi matematika pada suatu matrik dengan Numpy\n",
    "akan mengoperaikan elemen yang baris dan kolomnya sama. Tentunya hal ini\n",
    "akan memberikan hasil berbeda jika yang kita kehendaki adalah perkalian dua\n",
    "matrik. Perkalian matrik pada Numpy dapat menggunakan perintah matmul.\n",
    "Perlu dijadikan perhatian tentang ukuran matrik yang akan dikalikan harus\n",
    "sesuai dengan persyaratan. Misalnya matrik ukuran (2x3) dapat dikalikan dengan matrik ukuran (3x4)."
   ]
  },
  {
   "cell_type": "code",
   "execution_count": 82,
   "id": "1d41a406",
   "metadata": {},
   "outputs": [
    {
     "name": "stdout",
     "output_type": "stream",
     "text": [
      "[[20 21 22 23]\n",
      " [30 31 32 33]]\n"
     ]
    }
   ],
   "source": [
    "# masukan data \n",
    "# masukan variabel baru dengan menggunakan fungsi numpy.array diikuti dengan matriks dengan []\n",
    "# disini memasukan dua matriks \n",
    "w = numpy.array([[20,21,22,23],[30,31,32,33]])\n",
    "# mari kita panggil w nya\n",
    "print (w)\n",
    "# maka hasil yang keluar adalah matriks dari variabel w"
   ]
  },
  {
   "cell_type": "code",
   "execution_count": 83,
   "id": "29a95b24",
   "metadata": {},
   "outputs": [
    {
     "name": "stdout",
     "output_type": "stream",
     "text": [
      "[[1 2 3 4]\n",
      " [5 6 7 8]]\n"
     ]
    }
   ],
   "source": [
    "# masukan data yang kedua\n",
    "# masukan variabel baru dengan menggunakan fungsi numpy.array diikuti dengan matriks dengan []\n",
    "# disini memasukan dua matriks \n",
    "x = numpy.array([[1,2,3,4],[5,6,7,8]])\n",
    "print (x)\n",
    "# maka hasil yang keluar adalah matriks dari variabel x"
   ]
  },
  {
   "cell_type": "code",
   "execution_count": 84,
   "id": "02125d2f",
   "metadata": {},
   "outputs": [
    {
     "name": "stdout",
     "output_type": "stream",
     "text": [
      "[[ 20  42  66  92]\n",
      " [150 186 224 264]]\n"
     ]
    }
   ],
   "source": [
    "# perkalian antara 2 matriks pada numpy\n",
    "\n",
    "# masukan variabel = variabel 1*variabel 2\n",
    "perkalian = w*x\n",
    "print (perkalian)\n",
    "# maka hasil yang keluar adalah perkalian dari 2 matriks, dengan dikali sesama urutannya"
   ]
  },
  {
   "cell_type": "code",
   "execution_count": 85,
   "id": "cf7046f3",
   "metadata": {},
   "outputs": [
    {
     "ename": "ValueError",
     "evalue": "matmul: Input operand 1 has a mismatch in its core dimension 0, with gufunc signature (n?,k),(k,m?)->(n?,m?) (size 2 is different from 4)",
     "output_type": "error",
     "traceback": [
      "\u001b[1;31m---------------------------------------------------------------------------\u001b[0m",
      "\u001b[1;31mValueError\u001b[0m                                Traceback (most recent call last)",
      "\u001b[1;32m~\\AppData\\Local\\Temp\\ipykernel_12828\\703805971.py\u001b[0m in \u001b[0;36m<module>\u001b[1;34m\u001b[0m\n\u001b[0;32m      1\u001b[0m \u001b[1;31m# mencoba perkalian matriks menggunakan matmul\u001b[0m\u001b[1;33m\u001b[0m\u001b[1;33m\u001b[0m\u001b[0m\n\u001b[0;32m      2\u001b[0m \u001b[1;31m# masukan variabel, gunakan fungsi numpy, dengan menggunakan perintah matmul(masukan variabel1,variabel2)\u001b[0m\u001b[1;33m\u001b[0m\u001b[1;33m\u001b[0m\u001b[0m\n\u001b[1;32m----> 3\u001b[1;33m \u001b[0mz\u001b[0m \u001b[1;33m=\u001b[0m \u001b[0mnumpy\u001b[0m\u001b[1;33m.\u001b[0m\u001b[0mmatmul\u001b[0m\u001b[1;33m(\u001b[0m\u001b[0mw\u001b[0m\u001b[1;33m,\u001b[0m\u001b[0mx\u001b[0m\u001b[1;33m)\u001b[0m\u001b[1;33m\u001b[0m\u001b[1;33m\u001b[0m\u001b[0m\n\u001b[0m\u001b[0;32m      4\u001b[0m \u001b[0mprint\u001b[0m\u001b[1;33m(\u001b[0m\u001b[0mz\u001b[0m\u001b[1;33m)\u001b[0m\u001b[1;33m\u001b[0m\u001b[1;33m\u001b[0m\u001b[0m\n\u001b[0;32m      5\u001b[0m \u001b[1;31m# outputnya eror, karena perintah matmul akan jalan ketika sesuai persyaratan saja\u001b[0m\u001b[1;33m\u001b[0m\u001b[1;33m\u001b[0m\u001b[0m\n",
      "\u001b[1;31mValueError\u001b[0m: matmul: Input operand 1 has a mismatch in its core dimension 0, with gufunc signature (n?,k),(k,m?)->(n?,m?) (size 2 is different from 4)"
     ]
    }
   ],
   "source": [
    "# mencoba perkalian matriks menggunakan matmul\n",
    "# masukan variabel, gunakan fungsi numpy, dengan menggunakan perintah matmul(masukan variabel1,variabel2)\n",
    "z = numpy.matmul(w,x)\n",
    "print(z)\n",
    "# outputnya eror, karena perintah matmul akan jalan ketika sesuai persyaratan saja \n",
    "# Misalnya matriks ukuran (2x3) dapat dikalikan dengan matriks ukuran (3x4)."
   ]
  },
  {
   "cell_type": "code",
   "execution_count": 86,
   "id": "ff193b85",
   "metadata": {},
   "outputs": [
    {
     "name": "stdout",
     "output_type": "stream",
     "text": [
      "[[10 11]\n",
      " [12 23]\n",
      " [15 16]\n",
      " [17 18]]\n"
     ]
    }
   ],
   "source": [
    "# memasukan variabel baru \n",
    "# matriks ukuran 2 x 4\n",
    "v = numpy.array([[10,11],[12,23],[15,16],[17,18]])\n",
    "print (v)"
   ]
  },
  {
   "cell_type": "code",
   "execution_count": 87,
   "id": "e9fb8380",
   "metadata": {},
   "outputs": [
    {
     "name": "stdout",
     "output_type": "stream",
     "text": [
      "[[1173 1469]\n",
      " [1713 2149]]\n"
     ]
    }
   ],
   "source": [
    "# perkalian matriks menggunakan perintah matmul\n",
    "# masukan variabel, gunakan fungsi numpy, dengan perintan matmul(variabel 1,variabel2)\n",
    "q = numpy.matmul(w,v)\n",
    "print (q)\n",
    "# pada contoh ini perintah matmul berjalan\n",
    "# karena memenuhi persyaratan, yaitu 2 matriks yang beda ukuran"
   ]
  },
  {
   "cell_type": "code",
   "execution_count": 88,
   "id": "5e4864c7",
   "metadata": {},
   "outputs": [
    {
     "ename": "ValueError",
     "evalue": "operands could not be broadcast together with shapes (2,4) (4,2) ",
     "output_type": "error",
     "traceback": [
      "\u001b[1;31m---------------------------------------------------------------------------\u001b[0m",
      "\u001b[1;31mValueError\u001b[0m                                Traceback (most recent call last)",
      "\u001b[1;32m~\\AppData\\Local\\Temp\\ipykernel_12828\\3921821930.py\u001b[0m in \u001b[0;36m<module>\u001b[1;34m\u001b[0m\n\u001b[0;32m      1\u001b[0m \u001b[1;31m# perkalian matriks yang berbeda ukuran\u001b[0m\u001b[1;33m\u001b[0m\u001b[1;33m\u001b[0m\u001b[0m\n\u001b[0;32m      2\u001b[0m \u001b[1;31m# disini akan mencoba mengalikan 2 matriks yang berbeda ukuran dengan menggunakan operasi matematika\u001b[0m\u001b[1;33m\u001b[0m\u001b[1;33m\u001b[0m\u001b[0m\n\u001b[1;32m----> 3\u001b[1;33m \u001b[0mperkalian\u001b[0m \u001b[1;33m=\u001b[0m \u001b[0mw\u001b[0m\u001b[1;33m*\u001b[0m\u001b[0mv\u001b[0m\u001b[1;33m\u001b[0m\u001b[1;33m\u001b[0m\u001b[0m\n\u001b[0m\u001b[0;32m      4\u001b[0m \u001b[1;31m# ternyata hasilnya eror, hal ini dikarenakan 2 matriks yang dikalikan berbeda ukuran\u001b[0m\u001b[1;33m\u001b[0m\u001b[1;33m\u001b[0m\u001b[0m\n\u001b[0;32m      5\u001b[0m \u001b[1;33m\u001b[0m\u001b[0m\n",
      "\u001b[1;31mValueError\u001b[0m: operands could not be broadcast together with shapes (2,4) (4,2) "
     ]
    }
   ],
   "source": [
    "# perkalian matriks yang berbeda ukuran \n",
    "# disini akan mencoba mengalikan 2 matriks yang berbeda ukuran dengan menggunakan operasi matematika\n",
    "perkalian = w*v\n",
    "# ternyata hasilnya eror, hal ini dikarenakan 2 matriks yang dikalikan berbeda ukuran\n",
    "\n",
    "\n",
    "### dapat disimpulkan pada perkalian matriks, menggunakan operasi matematika pada umumnya berlaku saat sesama ukuran matriks.\n",
    "### matmul digunakan apabila kedua matriks berbeda ukuran"
   ]
  },
  {
   "cell_type": "markdown",
   "id": "0b5dcfd2",
   "metadata": {},
   "source": [
    "### 5.20.7 min, max, dan sum pada Numpy"
   ]
  },
  {
   "cell_type": "markdown",
   "id": "93ade83e",
   "metadata": {},
   "source": [
    "Perintah min, max dan sum cukup sering digunakan untuk mengetahui nilai\n",
    "minimum, maksimum dan penjumlahan."
   ]
  },
  {
   "cell_type": "code",
   "execution_count": 89,
   "id": "cd5d6bed",
   "metadata": {},
   "outputs": [
    {
     "name": "stdout",
     "output_type": "stream",
     "text": [
      "[[10 11 12 13]\n",
      " [20 21 22 23]\n",
      " [30 31 32 33]]\n"
     ]
    }
   ],
   "source": [
    "# mendeklarasikan suatu data \n",
    "\n",
    "# masukan variabel, gunakan fungsi numpy.array masukan dimensi beserta anggotanya \n",
    "g = numpy.array ([[10,11,12,13],[20,21,22,23],[30,31,32,33]])\n",
    "print (g)"
   ]
  },
  {
   "cell_type": "code",
   "execution_count": 90,
   "id": "870f6753",
   "metadata": {},
   "outputs": [
    {
     "name": "stdout",
     "output_type": "stream",
     "text": [
      "10\n"
     ]
    }
   ],
   "source": [
    "# mencari nilai min\n",
    "\n",
    "# masukan variabel, gunakan fungsi numpy dengan perintan min(variabel)\n",
    "min = numpy.min(g)\n",
    "print (min)\n",
    "# sesuai dengan data di g, bahwa nilai terkecil jatuh kepada 10"
   ]
  },
  {
   "cell_type": "code",
   "execution_count": 91,
   "id": "93444109",
   "metadata": {},
   "outputs": [
    {
     "name": "stdout",
     "output_type": "stream",
     "text": [
      "[10 11 12 13]\n"
     ]
    }
   ],
   "source": [
    "# axis adalah salah satu undur dari array\n",
    "# axis pada array menjelaskan urutan pengindeksan dalam array\n",
    "# axis 0 artinya satu dimensi\n",
    "\n",
    "# masukan variabel baru, gunakan fungsi numpy dengan perintah min(variabel yang ingin dcari, axis=axis yang dimau)\n",
    "h = numpy.min (g,axis=0)\n",
    "print(h)\n",
    "# maksud dari (g,axis=0) adalah di variabel g dengan anggota anggota dari satu dimensi"
   ]
  },
  {
   "cell_type": "code",
   "execution_count": 92,
   "id": "2105d3e5",
   "metadata": {},
   "outputs": [
    {
     "name": "stdout",
     "output_type": "stream",
     "text": [
      "[10 20 30]\n"
     ]
    }
   ],
   "source": [
    "# axis adalah salah satu undur dari array\n",
    "# axis pada array menjelaskan urutan pengindeksan dalam array\n",
    "# axis 1 artinya dua dimensi\n",
    "\n",
    "# masukan variabel baru, gunakan fungsi numpy dengan perintah min(variabel yang ingin dcari, axis=axis yang dimau)\n",
    "i = numpy.min(g,axis=1)\n",
    "print(i)\n",
    "# maksud dari (g,axis=1) adalah di variabel g dengan anggota anggota dari dua dimensi"
   ]
  },
  {
   "cell_type": "code",
   "execution_count": 93,
   "id": "1172eb4b",
   "metadata": {},
   "outputs": [
    {
     "name": "stdout",
     "output_type": "stream",
     "text": [
      "33\n"
     ]
    }
   ],
   "source": [
    "# mencari nilai max\n",
    "\n",
    "# msukan variabel, gunakan fungsi numpy dengan perintah max(variabel yang ingin dicari nilainya)\n",
    "max = numpy.max(g)\n",
    "print (max)\n",
    "# sesuai dengan data di g, bahwa nilai terbesar jatuh kepada 33"
   ]
  },
  {
   "cell_type": "code",
   "execution_count": 94,
   "id": "2d5aaaa6",
   "metadata": {},
   "outputs": [
    {
     "name": "stdout",
     "output_type": "stream",
     "text": [
      "[30 31 32 33]\n"
     ]
    }
   ],
   "source": [
    "# axis adalah salah satu undur dari array\n",
    "# axis pada array menjelaskan urutan pengindeksan dalam array\n",
    "# axis 0 artinya satu dimensi\n",
    "j = numpy.max(g,axis=0)\n",
    "print(j)\n",
    "# karena disini terdapat perintah max, maka di variabel g dengan nilai yang paling besar dan merupakan anggota dari satu dimensi"
   ]
  },
  {
   "cell_type": "code",
   "execution_count": 95,
   "id": "4d45db83",
   "metadata": {},
   "outputs": [
    {
     "name": "stdout",
     "output_type": "stream",
     "text": [
      "[13 23 33]\n"
     ]
    }
   ],
   "source": [
    "# axis adalah salah satu undur dari array\n",
    "# axis pada array menjelaskan urutan pengindeksan dalam array\n",
    "# axis 1 artinya dua dimensi\n",
    "k = numpy.max(g,axis=1)\n",
    "print(k)\n",
    "# karena terdapat perintah max, maka di variabel g dengan nilai paling besar atau berada di paling kanan\n",
    "# anggota anggota dari dua dimensi"
   ]
  },
  {
   "cell_type": "code",
   "execution_count": 96,
   "id": "efa03c12",
   "metadata": {},
   "outputs": [
    {
     "name": "stdout",
     "output_type": "stream",
     "text": [
      "258\n"
     ]
    }
   ],
   "source": [
    "# menghitung jumlah dengan menggunakan sum\n",
    "# masukan variabel baru, gunakan fungsi numpy dengan perintah sum(masukan variabel yang ingin dijumlahkan datanya)\n",
    "sum = numpy.sum(g)\n",
    "print(sum)\n",
    "# maka hasilnya adalah jumlah dari data di g"
   ]
  },
  {
   "cell_type": "code",
   "execution_count": 97,
   "id": "b721644b",
   "metadata": {},
   "outputs": [
    {
     "name": "stdout",
     "output_type": "stream",
     "text": [
      "[60 63 66 69]\n"
     ]
    }
   ],
   "source": [
    "# menghitung jumlah dari suatu dimensi\n",
    "# axis = 0, artinya satu dimensi\n",
    "\n",
    "# masukan variabel baru, gunakan fungsi numpy dengan perintah sum(masukan variabel yang ingin datanya diambil, dimensinya)\n",
    "l = numpy.sum(g,axis=0)\n",
    "print(l)\n",
    "# maka hasil yang muncul adalah jumlah dari satu dimensi"
   ]
  },
  {
   "cell_type": "code",
   "execution_count": 98,
   "id": "73a434a5",
   "metadata": {},
   "outputs": [
    {
     "name": "stdout",
     "output_type": "stream",
     "text": [
      "[ 46  86 126]\n"
     ]
    }
   ],
   "source": [
    "# menghitung jumlah dari suatu dimensi\n",
    "# axis = 1, artinya dua dimensi\n",
    "\n",
    "# masukan variabel baru, gunakan fungsi numpy dengan perintah sum(masukan variabel yang ingin datanya diambil, dimensinya)\n",
    "m = numpy.sum(g,axis=1)\n",
    "print (m)\n",
    "# maka hasil yang muncul adalah jumlah dari dua dimensi\n",
    "\n",
    "\n",
    "\n",
    "## dari banyaknya contoh dapat disimpulkan bahwa axis=0 adalah baris"
   ]
  }
 ],
 "metadata": {
  "kernelspec": {
   "display_name": "Python 3 (ipykernel)",
   "language": "python",
   "name": "python3"
  },
  "language_info": {
   "codemirror_mode": {
    "name": "ipython",
    "version": 3
   },
   "file_extension": ".py",
   "mimetype": "text/x-python",
   "name": "python",
   "nbconvert_exporter": "python",
   "pygments_lexer": "ipython3",
   "version": "3.9.13"
  }
 },
 "nbformat": 4,
 "nbformat_minor": 5
}
