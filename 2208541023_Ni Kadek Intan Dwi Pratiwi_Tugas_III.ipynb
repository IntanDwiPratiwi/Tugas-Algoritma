{
 "cells": [
  {
   "cell_type": "markdown",
   "id": "96120dd7",
   "metadata": {},
   "source": [
    "# String Index"
   ]
  },
  {
   "cell_type": "code",
   "execution_count": 9,
   "id": "8d0b448f",
   "metadata": {},
   "outputs": [
    {
     "name": "stdout",
     "output_type": "stream",
     "text": [
      "Saya \n"
     ]
    }
   ],
   "source": [
    "# variabel string diurutkan dimulai dengan 0\n",
    "# urutan terakhir sebagai urutan ke -1\n",
    "\n",
    "Budi =\"Saya suka makan sate ayam\"\n",
    "print(Budi[0:5])\n",
    "# disini akan diprint urutan dari 0 sampai sebelum urutan ke 5, yaitu urutan ke 4"
   ]
  },
  {
   "cell_type": "code",
   "execution_count": 10,
   "id": "188e9c50",
   "metadata": {},
   "outputs": [
    {
     "name": "stdout",
     "output_type": "stream",
     "text": [
      "Saya suka makan sate aya\n"
     ]
    }
   ],
   "source": [
    "print(Budi[0:-1])\n",
    "# disini artinya yang di print dari urutan ke 0 sampai sebelum urutan terakhir"
   ]
  },
  {
   "cell_type": "code",
   "execution_count": 11,
   "id": "7cc8acb2",
   "metadata": {},
   "outputs": [
    {
     "name": "stdout",
     "output_type": "stream",
     "text": [
      "ysaana a\n"
     ]
    }
   ],
   "source": [
    "# 2 = urutan ke 2 dari 0 (y)\n",
    "# -1 = sampai a, sebelum m \n",
    "# 3 = loncat 3 kali\n",
    "# loncat 3 kali = spasi \n",
    "# loncat 3 kali lagi = s\n",
    "# loncat 3 kali lagi = a\n",
    "# loncat 3 kali lagi = a\n",
    "# Loncat 3 kali lagi = n \n",
    "# dan seterusnya \n",
    "print(Budi[2:-1:3])"
   ]
  },
  {
   "cell_type": "code",
   "execution_count": 12,
   "id": "a8cdfbaf",
   "metadata": {},
   "outputs": [
    {
     "name": "stdout",
     "output_type": "stream",
     "text": [
      "aya \n"
     ]
    }
   ],
   "source": [
    "print (Budi[1:5])\n",
    "# disini artinya yang diprint dari urutan ke 1 sampai urutan sebelum ke 5, yaitu urutan ke 4"
   ]
  },
  {
   "cell_type": "code",
   "execution_count": 13,
   "id": "296fd797",
   "metadata": {},
   "outputs": [
    {
     "name": "stdout",
     "output_type": "stream",
     "text": [
      "Saya suka makan sate ayam\n"
     ]
    }
   ],
   "source": [
    "print(Budi[:])\n",
    "# disini artinya semua urutan akan diprint, dari awal sampai akhir"
   ]
  },
  {
   "cell_type": "code",
   "execution_count": 16,
   "id": "6331b55c",
   "metadata": {},
   "outputs": [
    {
     "name": "stdout",
     "output_type": "stream",
     "text": [
      "SAYA KULIA\n"
     ]
    }
   ],
   "source": [
    "SAYA = \"SAYA KULIAH DI UNIVERSITAS UDAYANA\"\n",
    "print (SAYA[0:10])\n",
    "\n",
    "# disini artinya yang diprint adalah dari urutan 0 sampai urutan 9"
   ]
  },
  {
   "cell_type": "code",
   "execution_count": 17,
   "id": "2446800e",
   "metadata": {},
   "outputs": [
    {
     "name": "stdout",
     "output_type": "stream",
     "text": [
      "KULIAH DI \n"
     ]
    }
   ],
   "source": [
    "print (SAYA[5:15])\n",
    "# disini artinya yang diprint adalah urutan dari 0 sampai urutan ke 14"
   ]
  },
  {
   "cell_type": "code",
   "execution_count": 18,
   "id": "8881a7bb",
   "metadata": {},
   "outputs": [
    {
     "name": "stdout",
     "output_type": "stream",
     "text": [
      "SAYA KULIAH DI UNIVERSITAS UD\n"
     ]
    }
   ],
   "source": [
    "print (SAYA[:-5])\n",
    "# disini artinya yang diprint adalah dari awal sampai -5 dari urutan akhir. "
   ]
  },
  {
   "cell_type": "markdown",
   "id": "d6f4c080",
   "metadata": {},
   "source": [
    "# Strings Methods"
   ]
  },
  {
   "cell_type": "code",
   "execution_count": 19,
   "id": "996f7b88",
   "metadata": {},
   "outputs": [
    {
     "name": "stdout",
     "output_type": "stream",
     "text": [
      "45\n"
     ]
    }
   ],
   "source": [
    "judul = \"Fakultas Matematika dan Ilmu Pengetahuan Alam\"\n",
    "print(len(judul))\n",
    "# len artinya jumlah suku kata "
   ]
  },
  {
   "cell_type": "code",
   "execution_count": 20,
   "id": "440c1045",
   "metadata": {},
   "outputs": [
    {
     "data": {
      "text/plain": [
       "'FAKULTAS MATEMATIKA DAN ILMU PENGETAHUAN ALAM'"
      ]
     },
     "execution_count": 20,
     "metadata": {},
     "output_type": "execute_result"
    }
   ],
   "source": [
    "judul.upper()\n",
    "# upper digunakan untuk merubah kalimat menjadi huruf besar"
   ]
  },
  {
   "cell_type": "code",
   "execution_count": 21,
   "id": "c315c20f",
   "metadata": {},
   "outputs": [
    {
     "data": {
      "text/plain": [
       "'fakultas matematika dan ilmu pengetahuan alam'"
      ]
     },
     "execution_count": 21,
     "metadata": {},
     "output_type": "execute_result"
    }
   ],
   "source": [
    "judul.lower()\n",
    "# lower digunakan untuk merubah kalimat menjadi huruf kecil"
   ]
  },
  {
   "cell_type": "code",
   "execution_count": 24,
   "id": "7b7ecfe3",
   "metadata": {},
   "outputs": [
    {
     "data": {
      "text/plain": [
       "0"
      ]
     },
     "execution_count": 24,
     "metadata": {},
     "output_type": "execute_result"
    }
   ],
   "source": [
    "judul.find(\"Fakultas\")\n",
    "# urutan dari huruf pertama, urutan dari U itu 0"
   ]
  },
  {
   "cell_type": "code",
   "execution_count": 27,
   "id": "4dd0d439",
   "metadata": {},
   "outputs": [
    {
     "data": {
      "text/plain": [
       "9"
      ]
     },
     "execution_count": 27,
     "metadata": {},
     "output_type": "execute_result"
    }
   ],
   "source": [
    "judul.find(\"Matematika\")\n",
    "# Urutan dari huruf pertama, M merupakan urutan ke 9"
   ]
  },
  {
   "cell_type": "code",
   "execution_count": 26,
   "id": "c934abdb",
   "metadata": {},
   "outputs": [
    {
     "data": {
      "text/plain": [
       "-1"
      ]
     },
     "execution_count": 26,
     "metadata": {},
     "output_type": "execute_result"
    }
   ],
   "source": [
    "judul.find(\"matematika\")\n",
    "# perhatikan lagi kalimatnya, matematika dan Matematika itu berbeda. \n",
    "# output yang akan keluar adalah -1, karena tidak ada yang sesuai dengan apa yang sudah dimasukan di variabel"
   ]
  },
  {
   "cell_type": "code",
   "execution_count": 35,
   "id": "39c7c211",
   "metadata": {},
   "outputs": [
    {
     "name": "stdout",
     "output_type": "stream",
     "text": [
      "Benar\n"
     ]
    },
    {
     "data": {
      "text/plain": [
       "'Fakultas Matematika dan IPA'"
      ]
     },
     "execution_count": 35,
     "metadata": {},
     "output_type": "execute_result"
    }
   ],
   "source": [
    "print ('Benar')\n",
    "judul.replace(\"Ilmu Pengetahuan Alam\", \"IPA\")\n",
    "# replace artinya mengganti kata\n",
    "# diingat untuk memperhatikan huruf besar atau huruf kecilnya"
   ]
  },
  {
   "cell_type": "code",
   "execution_count": 36,
   "id": "8f6737cf",
   "metadata": {},
   "outputs": [
    {
     "name": "stdout",
     "output_type": "stream",
     "text": [
      "Salah\n"
     ]
    },
    {
     "data": {
      "text/plain": [
       "'Fakultas Matematika dan Ilmu Pengetahuan Alam'"
      ]
     },
     "execution_count": 36,
     "metadata": {},
     "output_type": "execute_result"
    }
   ],
   "source": [
    "print (\"Salah\")\n",
    "judul.replace(\"ilmu pengetahuan alam\", \"IPA\")\n",
    "# kode tersebut salah karena tidak sesuai dengan apa yang diinput di variabel\n",
    "# huruf besar dan kecil tidak sesuai, sehingga mengakibatkan kata tersebut tidak terganti\n",
    "# apabila salah, hasil yang akan muncul akan kembali seperti semula"
   ]
  },
  {
   "cell_type": "code",
   "execution_count": 37,
   "id": "31c3fcff",
   "metadata": {},
   "outputs": [
    {
     "name": "stdout",
     "output_type": "stream",
     "text": [
      "True\n"
     ]
    }
   ],
   "source": [
    "print(\"Alam\" in judul)\n",
    "# hasil yang akan muncul seperti true or false\n",
    "# hasil yang muncul sesuai dengan di variabel yang sudah diinput"
   ]
  },
  {
   "cell_type": "code",
   "execution_count": 38,
   "id": "4d5baa7b",
   "metadata": {},
   "outputs": [
    {
     "name": "stdout",
     "output_type": "stream",
     "text": [
      "False\n"
     ]
    }
   ],
   "source": [
    "# apabila memasukan kalimat yang tidak sesuai maka yang muncul adalah false\n",
    "print(\"Kampus\" in judul)"
   ]
  },
  {
   "cell_type": "markdown",
   "id": "1d1defbb",
   "metadata": {},
   "source": [
    "# Operasi Matematika di Python"
   ]
  },
  {
   "cell_type": "code",
   "execution_count": 24,
   "id": "b9bf66a5",
   "metadata": {},
   "outputs": [
    {
     "name": "stdout",
     "output_type": "stream",
     "text": [
      "550\n"
     ]
    }
   ],
   "source": [
    "print(100+450)\n",
    "# tanda + artinya penjumlahan"
   ]
  },
  {
   "cell_type": "code",
   "execution_count": 21,
   "id": "35fc51b6",
   "metadata": {},
   "outputs": [
    {
     "name": "stdout",
     "output_type": "stream",
     "text": [
      "150\n"
     ]
    }
   ],
   "source": [
    "print (50 + 20*5)\n",
    "# perkalian akan selalu duluan dihitung daripada penjumlahan"
   ]
  },
  {
   "cell_type": "code",
   "execution_count": 45,
   "id": "c7512c43",
   "metadata": {},
   "outputs": [
    {
     "name": "stdout",
     "output_type": "stream",
     "text": [
      "60\n",
      "80\n"
     ]
    }
   ],
   "source": [
    "# tanda + artinya penjumlahan \n",
    "# tanda - artinya pengurangan\n",
    "# dibawah ini contoh apabila memasukan variabel\n",
    "a = 40\n",
    "b = 30\n",
    "c = 10\n",
    "print (a+b-c)\n",
    "print (a+b-(-c))"
   ]
  },
  {
   "cell_type": "code",
   "execution_count": 46,
   "id": "c2956724",
   "metadata": {},
   "outputs": [
    {
     "name": "stdout",
     "output_type": "stream",
     "text": [
      "43.0\n",
      "1600\n"
     ]
    }
   ],
   "source": [
    "# tanda / artinya pembagian\n",
    "print (a+b/c)\n",
    "\n",
    "# tanda ** artinya pangkat\n",
    "print (a**2)"
   ]
  },
  {
   "cell_type": "code",
   "execution_count": 47,
   "id": "1072cec9",
   "metadata": {},
   "outputs": [
    {
     "name": "stdout",
     "output_type": "stream",
     "text": [
      "0\n"
     ]
    }
   ],
   "source": [
    "# tanda % artinya modulo\n",
    "# tanda * artinya perkalian\n",
    "print (a*(b%c))"
   ]
  },
  {
   "cell_type": "code",
   "execution_count": 43,
   "id": "b63eb2f0",
   "metadata": {},
   "outputs": [
    {
     "name": "stdout",
     "output_type": "stream",
     "text": [
      "45\n"
     ]
    }
   ],
   "source": [
    "a = 40 \n",
    "a+= 5\n",
    "print (a)\n",
    "# arti dari a+= 5 yakni a = a+5 "
   ]
  },
  {
   "cell_type": "code",
   "execution_count": 12,
   "id": "f9b02b33",
   "metadata": {},
   "outputs": [
    {
     "name": "stdout",
     "output_type": "stream",
     "text": [
      "20\n"
     ]
    }
   ],
   "source": [
    "b = 30\n",
    "b-= 10\n",
    "print (b)\n",
    "# arti dari b-= 10 yakni b = b-10"
   ]
  },
  {
   "cell_type": "code",
   "execution_count": 20,
   "id": "dfecc72f",
   "metadata": {},
   "outputs": [
    {
     "name": "stdout",
     "output_type": "stream",
     "text": [
      "50\n"
     ]
    }
   ],
   "source": [
    "c = 10 \n",
    "c*= 5\n",
    "# jangan ada spasi antara * dan =\n",
    "# apabila isi spasi, maka akan eror\n",
    "print (c)\n",
    "# arti dari c*= 5 yakni c=c*5"
   ]
  },
  {
   "cell_type": "markdown",
   "id": "91986ee8",
   "metadata": {},
   "source": [
    "# Operator Perbandingan di Python"
   ]
  },
  {
   "cell_type": "code",
   "execution_count": 22,
   "id": "3c0648a5",
   "metadata": {},
   "outputs": [
    {
     "name": "stdout",
     "output_type": "stream",
     "text": [
      "True\n",
      "False\n",
      "True\n"
     ]
    }
   ],
   "source": [
    "# perbandingan yang menampilkan true atau false\n",
    "\n",
    "# pernyataan bernilai benar\n",
    "x = 7>5\n",
    "print(x)\n",
    "\n",
    "# bernilai false, karena 7 tidak kurang dari 5\n",
    "x = 7<5\n",
    "print(x)\n",
    "\n",
    "# pernyataan bernilai benar\n",
    "# >= artinya lebih dari sama dengan\n",
    "x = 7 >= 5\n",
    "print(x)"
   ]
  },
  {
   "cell_type": "code",
   "execution_count": 23,
   "id": "53deb0a7",
   "metadata": {},
   "outputs": [
    {
     "name": "stdout",
     "output_type": "stream",
     "text": [
      "True\n",
      "True\n",
      "False\n"
     ]
    }
   ],
   "source": [
    "# == artinya sama dengan \n",
    "x = 5 == 5\n",
    "print(x)\n",
    "\n",
    "\n",
    "# != artinya tidak sama dengan \n",
    "x = 5 != 7\n",
    "print(x)\n",
    "\n",
    "\n",
    "x = 7 != 7\n",
    "print(x) \n",
    "# akan bernilai false, karena 7 sama dengan 7 "
   ]
  },
  {
   "cell_type": "code",
   "execution_count": 43,
   "id": "411f9f3a",
   "metadata": {},
   "outputs": [
    {
     "name": "stdout",
     "output_type": "stream",
     "text": [
      "False\n"
     ]
    }
   ],
   "source": [
    "x <= 4 >= 4\n",
    "print (x)\n",
    "# bernilai salah, karena pernyataan salah"
   ]
  },
  {
   "cell_type": "code",
   "execution_count": 25,
   "id": "c75ae9e5",
   "metadata": {},
   "outputs": [
    {
     "name": "stdout",
     "output_type": "stream",
     "text": [
      "False\n",
      "True\n"
     ]
    }
   ],
   "source": [
    "# contoh dengan dua variabel\n",
    "\n",
    "buku = 10 \n",
    "pulpen = 15 \n",
    "print (buku > pulpen)\n",
    "# pernyataan diatas salah, karena buku < pulpen\n",
    "\n",
    "print (buku < pulpen)\n",
    "# pernyataan benar"
   ]
  },
  {
   "cell_type": "code",
   "execution_count": 27,
   "id": "14e36646",
   "metadata": {},
   "outputs": [
    {
     "name": "stdout",
     "output_type": "stream",
     "text": [
      "False\n",
      "True\n"
     ]
    }
   ],
   "source": [
    "print (buku == pulpen)\n",
    "# pernyataan salah, karena jumlah buku tidak sama dengan jumlah pulpen\n",
    "\n",
    "# != artinya tidak sama dengan\n",
    "print (buku != pulpen)\n",
    "# pernyataan benar"
   ]
  },
  {
   "cell_type": "markdown",
   "id": "0cf118ed",
   "metadata": {},
   "source": [
    "# Operator Logika di Python"
   ]
  },
  {
   "cell_type": "code",
   "execution_count": 28,
   "id": "ed3c46c3",
   "metadata": {},
   "outputs": [
    {
     "name": "stdout",
     "output_type": "stream",
     "text": [
      "False\n"
     ]
    }
   ],
   "source": [
    "semangka = 25 \n",
    "jeruk = 50\n",
    "print(semangka > 25 and jeruk > 50)\n",
    "# operator and akan bernilai benar apabila kedua pernyataan benar"
   ]
  },
  {
   "cell_type": "code",
   "execution_count": 48,
   "id": "f25cb5c4",
   "metadata": {},
   "outputs": [
    {
     "name": "stdout",
     "output_type": "stream",
     "text": [
      "True\n"
     ]
    }
   ],
   "source": [
    "# operator and\n",
    "# operator and akan bernilai benar apabila kedua pernyataan benar\n",
    "print (semangka > 10 and jeruk > 30)"
   ]
  },
  {
   "cell_type": "code",
   "execution_count": 49,
   "id": "d3d3f30a",
   "metadata": {},
   "outputs": [
    {
     "name": "stdout",
     "output_type": "stream",
     "text": [
      "False\n"
     ]
    }
   ],
   "source": [
    "# operator and\n",
    "# operator and akan bernilai benar apabila kedua pernyataan benar\n",
    "print(semangka > 50 and jeruk > 70)"
   ]
  },
  {
   "cell_type": "code",
   "execution_count": 29,
   "id": "dd34aa1a",
   "metadata": {},
   "outputs": [
    {
     "name": "stdout",
     "output_type": "stream",
     "text": [
      "True\n"
     ]
    }
   ],
   "source": [
    "# operator or\n",
    "# operator or akan bernilai benar apabila terdapat salah satu yang bernilai benar\n",
    "print(semangka < 30 or jeruk > 60)\n",
    "\n",
    "# semangka < 30 (benar)\n",
    "# jeruk > 60 (salah)\n",
    "# akibatnya bernilai true"
   ]
  },
  {
   "cell_type": "code",
   "execution_count": 30,
   "id": "6fc0480d",
   "metadata": {},
   "outputs": [
    {
     "name": "stdout",
     "output_type": "stream",
     "text": [
      "False\n"
     ]
    }
   ],
   "source": [
    "# operator or\n",
    "# operator or akan bernilai benar apabila terdapat salah satu yang bernilai benar\n",
    "print (semangka < 10 or jeruk > 70)\n",
    "\n",
    "# semangka < 10 (salah)\n",
    "# jeruk > 70 (salah)\n",
    "# akibatnya bernilai false"
   ]
  },
  {
   "cell_type": "code",
   "execution_count": 38,
   "id": "f64ae799",
   "metadata": {},
   "outputs": [
    {
     "name": "stdout",
     "output_type": "stream",
     "text": [
      "False\n",
      "True\n"
     ]
    }
   ],
   "source": [
    "# operator not\n",
    "# oeprator not menghasilkan nilai yang berlawan\n",
    "print (not semangka > 10)\n",
    "\n",
    "# semangka > 10 (benar)\n",
    "# tetapi ketika not semangka > 10 (salah)\n",
    "\n",
    "print (not jeruk < 40)\n",
    "\n",
    "# jeruk < 40 (salah)\n",
    "# tetapi ketika not jeruk < 40 (benar)"
   ]
  },
  {
   "cell_type": "code",
   "execution_count": 40,
   "id": "099d0122",
   "metadata": {},
   "outputs": [
    {
     "name": "stdout",
     "output_type": "stream",
     "text": [
      "False\n"
     ]
    }
   ],
   "source": [
    "farmasi = 120\n",
    "kimia = 80 \n",
    "\n",
    "# operator and\n",
    "# operator and akan bernilai benar apabila kedua pernyataan benar\n",
    "print (farmasi > 70 and kimia < 50)\n",
    "\n",
    "# farmasi > 70 (benar)\n",
    "# kimia < 50 (salah)\n",
    "# akibatnya bernilai false\n"
   ]
  },
  {
   "cell_type": "code",
   "execution_count": 41,
   "id": "008d7b74",
   "metadata": {},
   "outputs": [
    {
     "name": "stdout",
     "output_type": "stream",
     "text": [
      "True\n"
     ]
    }
   ],
   "source": [
    "# operator or \n",
    "# operator or akan bernilai benar apabila terdapat salah satu yang bernilai benar\n",
    "print (farmasi < 100 or kimia < 120)\n",
    "\n",
    "# farmasi < 100 (salah)\n",
    "# kimia < 120 (benar)\n",
    "# akibatnya bernilai true"
   ]
  },
  {
   "cell_type": "code",
   "execution_count": 42,
   "id": "064512ae",
   "metadata": {},
   "outputs": [
    {
     "name": "stdout",
     "output_type": "stream",
     "text": [
      "True\n"
     ]
    }
   ],
   "source": [
    "# operator not\n",
    "# oeprator not menghasilkan nilai yang berlawan\n",
    "print (not farmasi > 150)\n",
    "\n",
    "# farmasi > 150 (salah)\n",
    "# tetapi not farmasi > 150 (benar)"
   ]
  },
  {
   "cell_type": "markdown",
   "id": "154ca828",
   "metadata": {},
   "source": [
    "# Operator If di Python"
   ]
  },
  {
   "cell_type": "code",
   "execution_count": 46,
   "id": "8414971a",
   "metadata": {},
   "outputs": [
    {
     "name": "stdout",
     "output_type": "stream",
     "text": [
      "Masukan nilai anda = 50\n",
      "Sampai jumpa tahun depan!\n"
     ]
    }
   ],
   "source": [
    "# percabangan satu baris\n",
    "# if merupakan kondisi pertama \n",
    "# else merupakan kondisi terakhir, di mana semua kondisi sebelumnya tidak ada yang terpenuhi\n",
    "nilai = int (input(\"Masukan nilai anda = \"))\n",
    "if nilai >= 60:\n",
    "    print (\"Selamat kamu lulus !\")\n",
    "else:\n",
    "    print(\"Sampai jumpa tahun depan!\")\n"
   ]
  },
  {
   "cell_type": "code",
   "execution_count": 47,
   "id": "d8eed29b",
   "metadata": {},
   "outputs": [
    {
     "name": "stdout",
     "output_type": "stream",
     "text": [
      "Rate harimu hari ini = 7\n",
      "Harimu sedang biasa saja\n",
      "Semangat!\n"
     ]
    }
   ],
   "source": [
    "rate = int(input(\"Rate harimu hari ini = \"))\n",
    "if rate >= 8:\n",
    "    print (\"Harimu sedang bahagia\")\n",
    "    print (\"Wah seru nih, selamat berbahagia!\")\n",
    "if rate >= 4 and rate < 8:\n",
    "    print (\"Harimu sedang biasa saja\")\n",
    "    print (\"Semangat!\")\n",
    "# else merupakan kondisi selain if diatas    \n",
    "else : \n",
    "    print (\"Harimu sedang tidak baik\")\n",
    "    print (\"Semangat ya! semoga besok lebih baik.\")"
   ]
  },
  {
   "cell_type": "code",
   "execution_count": 48,
   "id": "c14aabcf",
   "metadata": {},
   "outputs": [
    {
     "name": "stdout",
     "output_type": "stream",
     "text": [
      "Nilai anda adalah 95\n",
      "Anda mendapatkan nilai A\n",
      "Nilai anda sangat bagus, pertahankan!\n"
     ]
    }
   ],
   "source": [
    "# operator if dijalankan apabila nilai variabel yang dijalankan adalah true\n",
    "# cara 1\n",
    "# ketika seluruhnya menggunakan if\n",
    "nilai = float(input(\"Nilai anda adalah \"))\n",
    "if nilai >= 80:\n",
    "    print(\"Anda mendapatkan nilai A\")\n",
    "    print(\"Nilai anda sangat bagus, pertahankan!\")\n",
    "if nilai < 80 and nilai >= 70:\n",
    "    print(\"Anda mendapatkan nilai B\")\n",
    "    print(\"Nilai anda baik, semangat belajar!\")\n",
    "if nilai >= 60 and nilai < 70:\n",
    "    print(\"Anda mendapatkan nilai C\")\n",
    "    print(\"Nilai anda cukup, semangat belajar untuk meningkatkan nilai anda!\")\n",
    "if nilai >= 50 and nilai < 60:\n",
    "    print(\"Anda mendapatkan nilai D\")\n",
    "    print(\"Silahkan mengulang tahun depan!\")\n",
    "if nilai < 50:\n",
    "    print(\"Anda mendapatkan nilai E\")\n",
    "    print(\"Silahkan mengulang tahun depan!\")"
   ]
  },
  {
   "cell_type": "code",
   "execution_count": 45,
   "id": "5d4fd798",
   "metadata": {},
   "outputs": [
    {
     "name": "stdout",
     "output_type": "stream",
     "text": [
      "Nilai anda adalah 95\n",
      "Anda mendapatkan nilai A\n",
      "Nilai anda sangat bagus, pertahankan!\n"
     ]
    }
   ],
   "source": [
    "# cara 2 \n",
    "# ketika menggunakan if, elif, else \n",
    "# if merupakan kondisi pertama \n",
    "# elif merupakan kondisi kedua atau ketiga hingga ke-x\n",
    "# else merupakan kondisi terakhir, di mana semua kondisi sebelumnya tidak ada yang terpenuhi\n",
    "nilai = float(input(\"Nilai anda adalah \"))\n",
    "if nilai >= 80:\n",
    "    print(\"Anda mendapatkan nilai A\")\n",
    "    print(\"Nilai anda sangat bagus, pertahankan!\")\n",
    "elif nilai >= 70:\n",
    "    print(\"Anda mendapatkan nilai B\")\n",
    "    print(\"Nilai anda baik, semangat belajar!\")\n",
    "elif nilai >= 60:\n",
    "    print(\"Anda mendapatkan nilai C\")\n",
    "    print(\"Nilai anda cukup, semangat belajar untuk meningkatkan nilai anda!\")\n",
    "elif nilai >= 50:\n",
    "    print(\"Anda mendapatkan nilai D\")\n",
    "    print(\"Silahkan mengulang tahun depan!\")\n",
    "else :\n",
    "    print(\"Anda mendapatkan nilai E\")\n",
    "    print(\"Silahkan mengulang tahun depan!\")"
   ]
  }
 ],
 "metadata": {
  "kernelspec": {
   "display_name": "Python 3 (ipykernel)",
   "language": "python",
   "name": "python3"
  },
  "language_info": {
   "codemirror_mode": {
    "name": "ipython",
    "version": 3
   },
   "file_extension": ".py",
   "mimetype": "text/x-python",
   "name": "python",
   "nbconvert_exporter": "python",
   "pygments_lexer": "ipython3",
   "version": "3.9.13"
  }
 },
 "nbformat": 4,
 "nbformat_minor": 5
}
