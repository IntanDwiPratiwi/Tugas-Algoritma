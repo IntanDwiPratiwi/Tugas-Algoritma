{
 "cells": [
  {
   "cell_type": "markdown",
   "id": "2791fc25",
   "metadata": {},
   "source": [
    "# TUGAS PERTEMUAN KEEMPAT"
   ]
  },
  {
   "cell_type": "markdown",
   "id": "3614fbbf",
   "metadata": {},
   "source": [
    "# 5.11 While Loop"
   ]
  },
  {
   "cell_type": "markdown",
   "id": "8661f5b0",
   "metadata": {},
   "source": [
    "While loop akan selalu dieksekusi selama nilainya True dan akan berhenti saat nilainya menjadi False"
   ]
  },
  {
   "cell_type": "markdown",
   "id": "98f065f6",
   "metadata": {},
   "source": [
    "### 5.11.1 Contoh Kode While Loop"
   ]
  },
  {
   "cell_type": "code",
   "execution_count": 1,
   "id": "c11fd7b5",
   "metadata": {},
   "outputs": [
    {
     "name": "stdout",
     "output_type": "stream",
     "text": [
      "Angka 8 masih dibawah 15\n",
      "Angka 9 masih dibawah 15\n",
      "Angka 10 masih dibawah 15\n",
      "Angka 11 masih dibawah 15\n",
      "Angka 12 masih dibawah 15\n",
      "Angka 13 masih dibawah 15\n",
      "Angka 14 masih dibawah 15\n"
     ]
    }
   ],
   "source": [
    "# CONTOH 1\n",
    "\n",
    "# pertama masukaan variabel beserta nilai yang diinginkan \n",
    "a = 8\n",
    "# masukan while, dengan ditambahkan variabelnya berada di posisi mana\n",
    "# disini saya menggunakan a kurang dari 15\n",
    "# tidak lupa berisi tanda : diakhir while\n",
    "while a < 15:\n",
    "# saat akan mau di print, apapun yang ingin print berada di dalam kurung ()\n",
    "# apabila yang ingin di print bukan sebuah variabel, jangan lupa berisi \"\" atau ''\n",
    "# tidak lupa diberi tanda + apabila menambahkan variabel yang ingin dicetak\n",
    "# disini saya menggunakan str, karena berupa angka\n",
    "    print ('Angka ' + str(a) + \" masih dibawah 15\")\n",
    "# urutan yang saya inginkan setelah a yaitu +1\n",
    "# a+= 1 dibawah ini berarti a = a+1\n",
    "    a += 1\n",
    "# angka yang akan keluar adalah angka yang dimulai dari 8 sampai 14\n",
    "# di mana angka 14 merupakan kurang dari 15"
   ]
  },
  {
   "cell_type": "code",
   "execution_count": 2,
   "id": "abedca98",
   "metadata": {},
   "outputs": [
    {
     "name": "stdout",
     "output_type": "stream",
     "text": [
      "Angka 6 berada diantara 5 sampai 10\n",
      "Angka 7 berada diantara 5 sampai 10\n",
      "Angka 8 berada diantara 5 sampai 10\n",
      "Angka 9 berada diantara 5 sampai 10\n"
     ]
    }
   ],
   "source": [
    "# CONTOH 2\n",
    "# aturannya sama dengan contoh 1\n",
    "# masukan variabel beserta nilainya yang diinginkan\n",
    "a = 6 \n",
    "# masukan while, dimana terdapat suatu kondisi a lebih dari 5 dan a kurang dari 10\n",
    "# jangan lupa untuk berisi tanda : diakhir \n",
    "while a > 5 and a < 10:  \n",
    "# sama dengan contoh 1\n",
    "# jangan lupa untuk memenuhi setiap aturan aturan\n",
    "# pada contoh ini saya menggunakan interval yang berada diantara 5 sampai 10\n",
    "    print (\"Angka \" + str(a) +\" berada diantara 5 sampai 10\")\n",
    "# urutan setelah a yang saya inginkan adalah +1\n",
    "# sehingga dapat menuliskannya dengan a += 1\n",
    "    a += 1\n",
    "# sehingga angka yang akan muncul adalah angka dari 6 sampai 9\n",
    "# yang dimana angka tersebut berada diantara 5 sampai 10"
   ]
  },
  {
   "cell_type": "code",
   "execution_count": 2,
   "id": "8a2fc860",
   "metadata": {},
   "outputs": [
    {
     "name": "stdout",
     "output_type": "stream",
     "text": [
      "*\n",
      "**\n",
      "***\n",
      "****\n",
      "*****\n",
      "******\n",
      "*******\n",
      "********\n"
     ]
    }
   ],
   "source": [
    "# CONTOH 3\n",
    "# pada contoh 3 ini sedikit berbeda dengan contoh sebelumnya\n",
    "# pertama masukan variabel beserta nilai yang diinginkan \n",
    "a = 1\n",
    "# masukan while beserta kondisi yang diinginkan \n",
    "# disini saya menggunakan kondisi yang dimana a kurang dari 9 \n",
    "# tidak lupa berisi tanda : diakhir \n",
    "while a < 9:\n",
    "# yang akan saya print disini  berupa simbol bintang\n",
    "# kondisi ini berarti nilai a yang dimulai dari 1 sampai 8 dikalikan dengan simbol bintang\n",
    "# pada simbol bintang, janga lupa untuk berisi tanda '' atau \"\"\n",
    "    print(a * \"*\")\n",
    "# urutan yang saya inginkan adalah a = +1\n",
    "# sehingga dapat menuliskannya dengan dibawah ini\n",
    "    a += 1\n",
    "# hasil yang akan keluar berupa simbol bintang dengan bintang dikalikan dengan a\n",
    "# dengan nilai a dimulai dari 1 sampai 8\n",
    "# membentuk seperti segitiga siku-siku"
   ]
  },
  {
   "cell_type": "code",
   "execution_count": 3,
   "id": "ebec59e4",
   "metadata": {},
   "outputs": [
    {
     "name": "stdout",
     "output_type": "stream",
     "text": [
      "*****\n",
      "****\n",
      "***\n",
      "**\n",
      "*\n"
     ]
    }
   ],
   "source": [
    "# CONTOH 4\n",
    "# pada contoh 4, ini merupakan kebalikan dari contoh no 3\n",
    "# pertama masukan variabel dan nilai yang diinginkan\n",
    "# disini saya memasukan a = 5\n",
    "# yang artinya a dimulai dari 5\n",
    "a = 5\n",
    "# masukan while dengan kondisi a lebih besar dari 0\n",
    "# maksudnya a tidak boleh kurang dari 1\n",
    "# jangan lupa diberi tanda : diakhir\n",
    "while a > 0: \n",
    "# yang di print merupakan simbol bintang \n",
    "# sama dengan contoh 4 \n",
    "    print(a * \"*\")\n",
    "# urutan yang saya inginkan adalah -1\n",
    "# maksudnya dari urutan ke besar ke terkecil\n",
    "# sehingga ditulis dengan seperti dibawah ini\n",
    "    a-= 1\n",
    "# hasil yang akan muncul berupa simbol bintang yang dikalikan dengan a\n",
    "# dengan nilai a yang dimulai dari 5 sampai 1\n",
    "# membentuk segitiga siku-siku"
   ]
  },
  {
   "cell_type": "markdown",
   "id": "7e5bfcd0",
   "metadata": {},
   "source": [
    "## 5.12 List di Python"
   ]
  },
  {
   "cell_type": "markdown",
   "id": "7e49fcab",
   "metadata": {},
   "source": [
    "List dapat digunakan saat kita merepresentasikan objek di dalam Python baik berupa string maupun berupa angka. List akan banyak digunakan pada saat mengolah data pada Python. List dapat dipanggil urutannya, bahkan isinya dapat dirubah"
   ]
  },
  {
   "cell_type": "markdown",
   "id": "3e21c7b0",
   "metadata": {},
   "source": [
    "### 5.12.1 Contoh Kode List "
   ]
  },
  {
   "cell_type": "markdown",
   "id": "00f26f96",
   "metadata": {},
   "source": [
    "#### Contoh 1"
   ]
  },
  {
   "cell_type": "code",
   "execution_count": 4,
   "id": "50a1fa06",
   "metadata": {},
   "outputs": [
    {
     "name": "stdout",
     "output_type": "stream",
     "text": [
      "['Farmasi', 'Matematika', 'Biologi', 'Fisika', 'Kimia', 'Informatika']\n"
     ]
    }
   ],
   "source": [
    "# langkah pertama merupakan masukan variabel beserta objeknya\n",
    "# variabel yang saya masukan yaitu FMIPA\n",
    "# dan untuk objeknya berisi program studi di lingkungan FMIPA\n",
    "# objek berada didalam tanda []\n",
    "# di setiap objek berisi tanda '' atau \"\"\n",
    "# dan jangan lupa berisi koma setelah tanda \"\" atau ''\n",
    "FMIPA = [\"Farmasi\", \"Matematika\", \"Biologi\", \"Fisika\", \"Kimia\", \"Informatika\"]\n",
    "# kemudian print untuk menampilkan hasil\n",
    "# disini yang akan di print adalah FMIPA, sehingga yang muncul merupakan objek dari variabel FMIPA tersebut\n",
    "# untuk FMIPA diberi simbol (), sepertid di bawah ini \n",
    "print (FMIPA)"
   ]
  },
  {
   "cell_type": "code",
   "execution_count": 5,
   "id": "a67d79ce",
   "metadata": {},
   "outputs": [
    {
     "name": "stdout",
     "output_type": "stream",
     "text": [
      "Farmasi\n"
     ]
    }
   ],
   "source": [
    "# disini akan di print dari objek FMIPA dengan urutan ke 0\n",
    "# urutan dari objek dimulai dari urutan ke 0\n",
    "# ketika akan print FMIPA berada di dalam ()\n",
    "# didala kurung berisi urutan yang ingin diprint dengan dilengkapi tanda []\n",
    "# dengan contoh seperti dibawah ini\n",
    "print (FMIPA[0])\n",
    "# objek yang akan muncul adalah urutan ke 0 dari FMIPA, yaitu Farmasi"
   ]
  },
  {
   "cell_type": "code",
   "execution_count": 6,
   "id": "3a207104",
   "metadata": {},
   "outputs": [
    {
     "name": "stdout",
     "output_type": "stream",
     "text": [
      "Informatika\n"
     ]
    }
   ],
   "source": [
    "# disini akan diprint dari objek FMIPA dengan urutan ke -1\n",
    "# urutan ke -1 merupakan urutan yang terakhir\n",
    "# dengan ketik print lalu beri tanda (), masukan FMIPA\n",
    "# kemudian masukan urutan yang ingin dipanggil dengan dilengkapi tanda []\n",
    "print (FMIPA[-1])\n",
    "# objek yang akan muncul adalah urutan terakhir yaitu, Informatika"
   ]
  },
  {
   "cell_type": "code",
   "execution_count": 7,
   "id": "a65f8cae",
   "metadata": {},
   "outputs": [
    {
     "name": "stdout",
     "output_type": "stream",
     "text": [
      "['Farmasi', 'Matematika', 'Biologi', 'Teknik Sipil', 'Kimia', 'Informatika']\n"
     ]
    }
   ],
   "source": [
    "# disini akan merubah dengan mengganti menjadi yang baru\n",
    "# masukan variabel yaitu FMIPA\n",
    "# selanjutnya masukan urutan objek yang akan dirubah dengan diberi tanda []\n",
    "# masukan objek baru dengan tidak lupa berisi \"\" atau ''\n",
    "FMIPA [3] = \"Teknik Sipil\"\n",
    "# kemudian print variabelnya\n",
    "print (FMIPA)\n",
    "# haasil yang akan muncul adalah objek dari variabel FMIPA yang sudah diganti\n",
    "# sebelumnya urutan ke 3 adalah fisika dan yang muncul akan berubah menjadi teknik sipil"
   ]
  },
  {
   "cell_type": "code",
   "execution_count": 8,
   "id": "754abc83",
   "metadata": {},
   "outputs": [
    {
     "name": "stdout",
     "output_type": "stream",
     "text": [
      "['Biologi', 'Fisika', 'Kimia']\n"
     ]
    }
   ],
   "source": [
    "# disini akan dikembalikan seperi semula objek dari variabel FMIPA\n",
    "# dengan memasukan ulang variabel beserta objeknya \n",
    "FMIPA = [\"Farmasi\", \"Matematika\", \"Biologi\", \"Fisika\", \"Kimia\", \"Informatika\"]\n",
    "# objek yang dipanggil yaitu urutan ke 2 sampai sebelum urutan -1\n",
    "# urutan -1 merupakan urutan terakhir\n",
    "# dengan aturan masukan variabel yang berada didalam () \n",
    "# masukan urutan yang dipanggil\n",
    "# karena urutan yang dipanggil bersifat interval berisi :\n",
    "# dengan contoh dibawah ini\n",
    "print (FMIPA[2:-1])\n",
    "# hasil yang akan keluar merupakan urutan ke 2 sampai urutan -2"
   ]
  },
  {
   "cell_type": "code",
   "execution_count": 9,
   "id": "625af64d",
   "metadata": {},
   "outputs": [
    {
     "name": "stdout",
     "output_type": "stream",
     "text": [
      "['Farmasi', 'Fisika']\n"
     ]
    }
   ],
   "source": [
    "# disini akan memanggil objek dari urutan 0 sampai urutan sebelum -1\n",
    "# dengan loncatan 3 kali setelah urutan ke 0\n",
    "# dengan format urutannya menggunakan tanda :\n",
    "# contoh seperti dibawah ini\n",
    "print (FMIPA[0:-1:3])\n",
    "# hasil yang muncul merupakan farmasi dan fisika, berdasarkan konsep yang sudah dijelaskan"
   ]
  },
  {
   "cell_type": "markdown",
   "id": "c2912ee7",
   "metadata": {},
   "source": [
    "#### Contoh 2"
   ]
  },
  {
   "cell_type": "code",
   "execution_count": 1,
   "id": "37deb4a6",
   "metadata": {},
   "outputs": [
    {
     "name": "stdout",
     "output_type": "stream",
     "text": [
      "['2', '3', '5', '7', '11']\n"
     ]
    }
   ],
   "source": [
    "# pada contoh 2 ini menggunakan objek suatu bilangan\n",
    "# masukan variabel beserta objek yang diinginkan\n",
    "# disini saya menggunakan variabel bilangan_prima\n",
    "# variabel yang berupa dua kata harus menggunakan spasi dengan menggunakan _\n",
    "# objek berada di dalam tanda []\n",
    "# di setiap objek diberi tanda \"\" atau ''\n",
    "bilangan_prima = [\"2\", \"3\", \"5\", \"7\", \"11\"]\n",
    "# memanggil bilangan prima, tidak lupa memberi tanda kurung ()\n",
    "print (bilangan_prima)\n",
    "# sehingga hasil yang muncul merupakan objek objek dari bilangan prima"
   ]
  },
  {
   "cell_type": "code",
   "execution_count": 3,
   "id": "6d462600",
   "metadata": {},
   "outputs": [
    {
     "name": "stdout",
     "output_type": "stream",
     "text": [
      "['2', '5']\n"
     ]
    }
   ],
   "source": [
    "# akan dipanggil bilangan prima 0:-1:2\n",
    "# bilangan prima serta objek yang akan dipanggil berada didalam kurung ()\n",
    "# objek yang akan dipanggil berada di dalam []\n",
    "# 0:-1:2 artinya memanggil urutan dari o sampai sebelum -1, dengan loncatan 2 kali\n",
    "print (bilangan_prima[0:-1:2])"
   ]
  },
  {
   "cell_type": "code",
   "execution_count": 4,
   "id": "b0708a17",
   "metadata": {},
   "outputs": [
    {
     "name": "stdout",
     "output_type": "stream",
     "text": [
      "['2', '3', '5', '7', '13']\n"
     ]
    }
   ],
   "source": [
    "# disini akan mengganti suatu objek menjadi objek yang baru\n",
    "# masukan variabelnya dengan urutan objek yang akan diganti \n",
    "# setelah itu masukan objek baru yang ingin dimasukkan\n",
    "# objek baru yang dimasukan tidak lupa diberi tanda \"\" atau ''\n",
    "bilangan_prima[-1] = \"13\"\n",
    "print (bilangan_prima)"
   ]
  },
  {
   "cell_type": "code",
   "execution_count": 5,
   "id": "263894a0",
   "metadata": {},
   "outputs": [
    {
     "name": "stdout",
     "output_type": "stream",
     "text": [
      "['2', '3', '5', '7', '13']\n"
     ]
    }
   ],
   "source": [
    "# disini akan kembali memanggil bilangan prima\n",
    "print (bilangan_prima)\n",
    "# hasil yang muncul tidak seperti semula, namun hasil yang setelah dirubah"
   ]
  },
  {
   "cell_type": "markdown",
   "id": "55c7b5b6",
   "metadata": {},
   "source": [
    "## 5.13 Metoda List  "
   ]
  },
  {
   "cell_type": "markdown",
   "id": "828cbcac",
   "metadata": {},
   "source": [
    "Karena list merupakan objek, maka keberadaannya dapat dimanipulasi dengan menambahkan atau menghilangkan isinya."
   ]
  },
  {
   "cell_type": "markdown",
   "id": "9ff69aa5",
   "metadata": {},
   "source": [
    "### 5.13.1 Contoh Kode Metoda List"
   ]
  },
  {
   "cell_type": "markdown",
   "id": "0babac23",
   "metadata": {},
   "source": [
    "#### Contoh 1"
   ]
  },
  {
   "cell_type": "code",
   "execution_count": 3,
   "id": "f11188e4",
   "metadata": {},
   "outputs": [
    {
     "name": "stdout",
     "output_type": "stream",
     "text": [
      "['Ari', 'Tria', 'Ayu', 'Bunga', 'Bila', 'Santi']\n"
     ]
    }
   ],
   "source": [
    "# pada contoh ini, mencoba untuk menambahkan suatu objek\n",
    "# masukan variabel beserta objek yang diinginkan\n",
    "# objek diberi tanda []\n",
    "# di setiap objek diberi tanda \"\" atau ''\n",
    "Kelas_A = [\"Ari\", \"Tria\", \"Ayu\", \"Bunga\", \"Bila\"]\n",
    "# apabila ingin menambahkan objek, kita menggunakan append\n",
    "# dengan masukan variabel.append (\"objek yang ingin ditambahkan\")\n",
    "Kelas_A.append(\"Santi\")\n",
    "# objek yang ditambahkan memiliki urutan terakhir\n",
    "print(Kelas_A)\n",
    "# maka akan memangggil objek dari kelas A ditambah dengan Santi"
   ]
  },
  {
   "cell_type": "code",
   "execution_count": 5,
   "id": "9d9d1f72",
   "metadata": {},
   "outputs": [
    {
     "name": "stdout",
     "output_type": "stream",
     "text": [
      "['Ari', 'Anton', 'Tria', 'Ayu', 'Bunga', 'Bila', 'Santi']\n"
     ]
    }
   ],
   "source": [
    "# pada contoh ini adalah menammbahkan objek beserta urutannya\n",
    "# menambahkan objek beserta urutannya dengan menggunakan insert\n",
    "# masukan variabel.insert(urutan yang diinginkan, \"objek yang ingin ditambahkan\")\n",
    "# jangan lupa untuk memberi tanda \"\" atau '' untuk objek yang akan ditambahkan\n",
    "Kelas_A.insert(1,\"Anton\")\n",
    "# kemudian print variabelnya\n",
    "print(Kelas_A)\n",
    "# sehingga hasil yang muncul adalah Kelas A beserta tambahan Anton di urutan ke 1"
   ]
  },
  {
   "cell_type": "code",
   "execution_count": 6,
   "id": "a8c50a14",
   "metadata": {},
   "outputs": [
    {
     "name": "stdout",
     "output_type": "stream",
     "text": [
      "['Ari', 'Anton', 'Tria', 'Bunga', 'Bila', 'Santi']\n"
     ]
    }
   ],
   "source": [
    "# pada contoh ini ketika menghapus suatu objek\n",
    "# menghapus salah satu objek bisa menggunakan remove\n",
    "# masukan varibel.remove(\"objek yang diinginkan untuk di hapus\")\n",
    "# selalu ingat dengan tanda \"\" atau ''\n",
    "Kelas_A.remove('Ayu')\n",
    "print(Kelas_A)\n",
    "# hasil yang muncul adalah kelas A terbaru dengan Anton dan tanpa Ayu"
   ]
  },
  {
   "cell_type": "code",
   "execution_count": 8,
   "id": "a96f8804",
   "metadata": {},
   "outputs": [
    {
     "name": "stdout",
     "output_type": "stream",
     "text": [
      "True\n"
     ]
    }
   ],
   "source": [
    "# membuktikan objek yang benar\n",
    "# pada contoh ini membuktikan suatu objek \n",
    "# dengan format => print (\"nama yang akan dipangil\" in variabel)\n",
    "print(\"Ari\" in Kelas_A)\n",
    "# apabila Ari merupakan Kelas A, maka hasilnya adalah True\n",
    "# apabila Ari bukan kelas A, maka hasilnya adalah False\n",
    "# karena Ari merupakan kelas A, maka hasil yang akan muncul adalah True"
   ]
  },
  {
   "cell_type": "code",
   "execution_count": 9,
   "id": "5ec3779a",
   "metadata": {},
   "outputs": [
    {
     "name": "stdout",
     "output_type": "stream",
     "text": [
      "False\n"
     ]
    }
   ],
   "source": [
    "# membuktikan objek yang salah\n",
    "# dengan format yang sama dengan sebelumnya\n",
    "print(\"Yuni\" in Kelas_A)\n",
    "# karena Yuni bukan dari kelas A, maka hasil yang akan muncul adalah False "
   ]
  },
  {
   "cell_type": "code",
   "execution_count": 10,
   "id": "cb39ce2e",
   "metadata": {},
   "outputs": [
    {
     "name": "stdout",
     "output_type": "stream",
     "text": [
      "6\n"
     ]
    }
   ],
   "source": [
    "# pada contoh ini digunakan untuk menghitung banyaknya objek di suatu variabel\n",
    "# untuk menghitung banyaknya objek, kita menggunakan len\n",
    "# dengan format print (len(variabel))\n",
    "# jangan lupa untuk memberi tanda kurung\n",
    "print(len(Kelas_A))\n",
    "# maka hasil yang muncul adalah banyaknya objek pada Kelas A yaitu 6"
   ]
  },
  {
   "cell_type": "markdown",
   "id": "7eb839f8",
   "metadata": {},
   "source": [
    "#### Contoh 2"
   ]
  },
  {
   "cell_type": "code",
   "execution_count": 1,
   "id": "5198ec82",
   "metadata": {},
   "outputs": [
    {
     "name": "stdout",
     "output_type": "stream",
     "text": [
      "['4', '6', '8', '10']\n"
     ]
    }
   ],
   "source": [
    "# pada contoh ini menggunakan suatu bilangan\n",
    "# masukan variabel beserta objek yang diinginkan\n",
    "# jangan lupa untuk memberi tanda [] dan \"\" atau ''\n",
    "bilangan_genap = ['4','6','8','10']\n",
    "print (bilangan_genap)\n",
    "# maka hasil yang akan muncul adalah objek-objek dari bilangan genap"
   ]
  },
  {
   "cell_type": "code",
   "execution_count": 2,
   "id": "a58a3b7d",
   "metadata": {},
   "outputs": [
    {
     "name": "stdout",
     "output_type": "stream",
     "text": [
      "['2', '4', '6', '8', '10']\n"
     ]
    }
   ],
   "source": [
    "# contoh ini untuk menambahkan objek beserta urutannya\n",
    "# menambahkan objek beserta dengan urutannya menggunakan insert\n",
    "# masukan variabel.insert(urutan yang diinginkan, \"objek yang ingin ditambahkan\")\n",
    "bilangan_genap.insert(0,'2')\n",
    "print(bilangan_genap)\n",
    "# maka hasil yang muncul adalah terdapat angka 2 di urutan ke 0\n",
    "# urutan ke 0 merupakan posisi pertama"
   ]
  },
  {
   "cell_type": "code",
   "execution_count": 3,
   "id": "79e5aaac",
   "metadata": {},
   "outputs": [
    {
     "name": "stdout",
     "output_type": "stream",
     "text": [
      "True\n"
     ]
    }
   ],
   "source": [
    "# membuktikan suatu objek yang benar\n",
    "print(\"10\" in bilangan_genap)\n",
    "# apabila 10 merupakan bilangan genap, maka hasilnya adalah True\n",
    "# apabila 10 bukan bilangan genap, maka hasilnya adalah False"
   ]
  },
  {
   "cell_type": "code",
   "execution_count": 4,
   "id": "e3649c2f",
   "metadata": {},
   "outputs": [
    {
     "name": "stdout",
     "output_type": "stream",
     "text": [
      "False\n"
     ]
    }
   ],
   "source": [
    "# membuktikan suatu objek yang salah\n",
    "print(\"3\" in bilangan_genap)\n",
    "# karena 3 bukan objek dari variabel bilangan genap, maka hasil yang muncul adalah false"
   ]
  },
  {
   "cell_type": "code",
   "execution_count": 6,
   "id": "5fdee3d0",
   "metadata": {},
   "outputs": [
    {
     "name": "stdout",
     "output_type": "stream",
     "text": [
      "5\n"
     ]
    }
   ],
   "source": [
    "# pada contoh ini digunakan untuk menghitung banyaknya objek di suatu variabel\n",
    "# untuk menghitung banyaknya objek, kita menggunakan len\n",
    "print(len(bilangan_genap))\n",
    "# maka hasil yang muncul merupakan jumlah banyaknya objek dari variabel bilangan genap"
   ]
  },
  {
   "cell_type": "markdown",
   "id": "58cd2300",
   "metadata": {},
   "source": [
    "## 5.14 For Loop"
   ]
  },
  {
   "cell_type": "markdown",
   "id": "48233dad",
   "metadata": {},
   "source": [
    "For loop dapat digunakan untuk memanggil semua isi list. "
   ]
  },
  {
   "cell_type": "markdown",
   "id": "4d7e7fba",
   "metadata": {},
   "source": [
    "### 5.14.1 Contoh Kode For Loop"
   ]
  },
  {
   "cell_type": "markdown",
   "id": "dc00ca30",
   "metadata": {},
   "source": [
    "#### Contoh 1"
   ]
  },
  {
   "cell_type": "code",
   "execution_count": 8,
   "id": "b1d46b30",
   "metadata": {},
   "outputs": [
    {
     "name": "stdout",
     "output_type": "stream",
     "text": [
      "Beruang\n",
      "Buaya\n",
      "Anjing\n",
      "Kucing\n"
     ]
    }
   ],
   "source": [
    "# masukan variabel beserta listnya\n",
    "hewan = ['Beruang', 'Buaya', 'Anjing', 'Kucing']\n",
    "# menggunakan for\n",
    "# memberi tanda : pada setiap akhir kata setelah for\n",
    "for jenis in hewan: \n",
    "# yang dipanggil disini bukan variabelnya\n",
    "    print(jenis)"
   ]
  },
  {
   "cell_type": "code",
   "execution_count": 10,
   "id": "e794f53e",
   "metadata": {},
   "outputs": [
    {
     "name": "stdout",
     "output_type": "stream",
     "text": [
      "Beruang\n",
      "Buaya\n",
      "Anjing\n",
      "Kucing\n"
     ]
    }
   ],
   "source": [
    "# bisa juga dengan menggunakan while\n",
    "# masukan sebarang variabel\n",
    "# dengan objek yang akan dipanggil berawal dari urutan ke berapa\n",
    "i = 0\n",
    "# menggunakan while dengan kondisi dimana i kurang dari banyaknya jumlah hewan\n",
    "# diberi tanda : setelah memanggil variabel\n",
    "while i < len(hewan):\n",
    "    print(hewan[i])\n",
    "    i+=1\n",
    "# i+= 1 artinya kondisi dimana i =i+1, artinya berurutan"
   ]
  },
  {
   "cell_type": "markdown",
   "id": "02144557",
   "metadata": {},
   "source": [
    "#### Contoh 2"
   ]
  },
  {
   "cell_type": "code",
   "execution_count": 1,
   "id": "b1cd409d",
   "metadata": {},
   "outputs": [
    {
     "name": "stdout",
     "output_type": "stream",
     "text": [
      "1\n",
      "3\n",
      "5\n",
      "7\n",
      "9\n",
      "11\n"
     ]
    }
   ],
   "source": [
    "# menggunakan for\n",
    "# pada contoh 2 ini menggunakan objeknya dengan bilangan\n",
    "# masukan variabel beserta listnya\n",
    "# _ digunakan untuk spasi \n",
    "# list berada dialam []\n",
    "# jangan lupa di setiap objek diberi tanda  atau ''\n",
    "bilangan_ganjil = ['1','3','5','7','9','11']\n",
    "for angka in bilangan_ganjil:\n",
    "    print(angka)\n",
    "# hasil yang muncul merupakan objek dari bilangan_ganjil"
   ]
  },
  {
   "cell_type": "code",
   "execution_count": 2,
   "id": "9bc8933a",
   "metadata": {},
   "outputs": [
    {
     "name": "stdout",
     "output_type": "stream",
     "text": [
      "1\n",
      "3\n",
      "5\n",
      "7\n",
      "9\n",
      "11\n"
     ]
    }
   ],
   "source": [
    "# ketika menggunakan while\n",
    "# masukan sebarang variabel\n",
    "# dengan objek yang akan dipanggil berawal dari urutan ke berapa\n",
    "# menggunakan while dengan kondisi dimana i kurang dari banyaknya jumlah bilangan_ganjil\n",
    "# diberi tanda : setelah memanggil variabel\n",
    "i = 0\n",
    "while i < len(bilangan_ganjil):\n",
    "    print(bilangan_ganjil[i])\n",
    "    i+=1\n",
    "# i+= 1 artinya kondisi dimana i =i+1, artinya berurutan"
   ]
  },
  {
   "cell_type": "code",
   "execution_count": 4,
   "id": "217220ab",
   "metadata": {},
   "outputs": [
    {
     "name": "stdout",
     "output_type": "stream",
     "text": [
      "11\n",
      "9\n",
      "7\n",
      "5\n",
      "3\n",
      "1\n"
     ]
    },
    {
     "ename": "IndexError",
     "evalue": "list index out of range",
     "output_type": "error",
     "traceback": [
      "\u001b[1;31m---------------------------------------------------------------------------\u001b[0m",
      "\u001b[1;31mIndexError\u001b[0m                                Traceback (most recent call last)",
      "\u001b[1;32m~\\AppData\\Local\\Temp\\ipykernel_11616\\3836524536.py\u001b[0m in \u001b[0;36m<module>\u001b[1;34m\u001b[0m\n\u001b[0;32m      5\u001b[0m \u001b[1;31m# terdapat kondisi dimana i kurang dari jumlah dari bilangan_ganjil\u001b[0m\u001b[1;33m\u001b[0m\u001b[1;33m\u001b[0m\u001b[0m\n\u001b[0;32m      6\u001b[0m \u001b[1;32mwhile\u001b[0m \u001b[0mi\u001b[0m \u001b[1;33m<\u001b[0m \u001b[0mlen\u001b[0m\u001b[1;33m(\u001b[0m\u001b[0mbilangan_ganjil\u001b[0m\u001b[1;33m)\u001b[0m\u001b[1;33m:\u001b[0m\u001b[1;33m\u001b[0m\u001b[1;33m\u001b[0m\u001b[0m\n\u001b[1;32m----> 7\u001b[1;33m     \u001b[0mprint\u001b[0m\u001b[1;33m(\u001b[0m\u001b[0mbilangan_ganjil\u001b[0m\u001b[1;33m[\u001b[0m\u001b[0mi\u001b[0m\u001b[1;33m]\u001b[0m\u001b[1;33m)\u001b[0m\u001b[1;33m\u001b[0m\u001b[1;33m\u001b[0m\u001b[0m\n\u001b[0m\u001b[0;32m      8\u001b[0m     \u001b[0mi\u001b[0m\u001b[1;33m-=\u001b[0m\u001b[1;36m1\u001b[0m\u001b[1;33m\u001b[0m\u001b[1;33m\u001b[0m\u001b[0m\n\u001b[0;32m      9\u001b[0m \u001b[1;31m# i-= 1 artinya i = i-1, yang dimana urutannya dari yang terbesar ke terkecil\u001b[0m\u001b[1;33m\u001b[0m\u001b[1;33m\u001b[0m\u001b[0m\n",
      "\u001b[1;31mIndexError\u001b[0m: list index out of range"
     ]
    }
   ],
   "source": [
    "# ketika menggunakan while\n",
    "# ketika dari urutan terakhir ke urutan pertama\n",
    "# yang dimana urutan terakhir yaitu dimulai dari urutan -1\n",
    "i = -1\n",
    "# terdapat kondisi dimana i kurang dari jumlah dari bilangan_ganjil\n",
    "while i < len(bilangan_ganjil):\n",
    "    print(bilangan_ganjil[i])\n",
    "    i-=1\n",
    "# i-= 1 artinya i = i-1, yang dimana urutannya dari yang terbesar ke terkecil\n",
    "\n",
    "\n",
    "# pada kode ini terlihat hasil yang muncul tetapi juga eror\n",
    "# itu karena saya tidak membatasi dari urutan -1 sampai ke urutan ke berapa\n",
    "# sedangkan yang di list hanya mencapai -6\n",
    "# jadi itulah alasannya eror"
   ]
  },
  {
   "cell_type": "markdown",
   "id": "6f6f0d2f",
   "metadata": {},
   "source": [
    "## 5.15 Fungsi Range"
   ]
  },
  {
   "cell_type": "markdown",
   "id": "28468d2a",
   "metadata": {},
   "source": [
    "Fungsi range berguna untuk membangkitkan bilangan berurutan atau berpola yang kita inginkan. Dalam menuliskannya, perlu dikombinasikan dengan for loop."
   ]
  },
  {
   "cell_type": "markdown",
   "id": "12829279",
   "metadata": {},
   "source": [
    "### 5.15.1 Contoh Kode Fungsi Range"
   ]
  },
  {
   "cell_type": "code",
   "execution_count": 6,
   "id": "24456452",
   "metadata": {},
   "outputs": [
    {
     "name": "stdout",
     "output_type": "stream",
     "text": [
      "range(0, 12)\n"
     ]
    }
   ],
   "source": [
    "# contoh menampilkan range dalam bentuk interval\n",
    "# masukan variabel beserta range(sampai angak berapa)\n",
    "angka = range(12)\n",
    "# kemudian panggil variabelnya\n",
    "print (angka)\n",
    "# maka hasil yang akan muncul adalah range dari 0 sampai 12"
   ]
  },
  {
   "cell_type": "code",
   "execution_count": 7,
   "id": "e2026051",
   "metadata": {},
   "outputs": [
    {
     "name": "stdout",
     "output_type": "stream",
     "text": [
      "0\n",
      "1\n",
      "2\n",
      "3\n",
      "4\n",
      "5\n",
      "6\n",
      "7\n",
      "8\n",
      "9\n",
      "10\n",
      "11\n"
     ]
    }
   ],
   "source": [
    "# disini menggunakan for\n",
    "# karena disini akan menampilkan bilangan yang berurutan / isi dari range\n",
    "for isi in angka:\n",
    "# yang di print adalah isi, bukan variabelnya\n",
    "    print (isi)\n",
    "# maka hasilnya ada menampilkan dari angka 0 sampai 11, 12 nya tidak masuk"
   ]
  },
  {
   "cell_type": "code",
   "execution_count": 8,
   "id": "69492fa9",
   "metadata": {},
   "outputs": [
    {
     "name": "stdout",
     "output_type": "stream",
     "text": [
      "15\n",
      "16\n",
      "17\n",
      "18\n",
      "19\n",
      "20\n"
     ]
    }
   ],
   "source": [
    "# contoh ini akan menampilkan range dari angka berapa sampai berapa\n",
    "# disini saya ingin menampilkan angka 15 sampai 20\n",
    "# sehingga range nya adalah (15,21), di range selalu lebih satu dari angka yang diinginkan\n",
    "for isi in range(15,21):\n",
    "# kemudian print isi, bukan variabel\n",
    "    print(isi)\n",
    "# sehingga hasil yang muncul adalah angka 15 sampai 20"
   ]
  },
  {
   "cell_type": "code",
   "execution_count": 9,
   "id": "a66c714e",
   "metadata": {},
   "outputs": [
    {
     "name": "stdout",
     "output_type": "stream",
     "text": [
      "5\n",
      "8\n",
      "11\n",
      "14\n",
      "17\n"
     ]
    }
   ],
   "source": [
    "# contoh ini akan menampilkan bilangan dengan memenuhi suatu kondisi\n",
    "# (5,20,3) artinya kondisi dimana bilangan dari 5 sampai 19 dengan kelipatan +3 yang dimulai dari angka 5\n",
    "for isi in range (5,20,3):\n",
    "    print (isi)\n",
    "# sehingga hasil yang muncul adalah bilangan dari 5 sampai 10 dengan format +3 atau loncat 3"
   ]
  },
  {
   "cell_type": "code",
   "execution_count": null,
   "id": "0e1e0b0c",
   "metadata": {},
   "outputs": [],
   "source": []
  }
 ],
 "metadata": {
  "kernelspec": {
   "display_name": "Python 3 (ipykernel)",
   "language": "python",
   "name": "python3"
  },
  "language_info": {
   "codemirror_mode": {
    "name": "ipython",
    "version": 3
   },
   "file_extension": ".py",
   "mimetype": "text/x-python",
   "name": "python",
   "nbconvert_exporter": "python",
   "pygments_lexer": "ipython3",
   "version": "3.9.13"
  }
 },
 "nbformat": 4,
 "nbformat_minor": 5
}
