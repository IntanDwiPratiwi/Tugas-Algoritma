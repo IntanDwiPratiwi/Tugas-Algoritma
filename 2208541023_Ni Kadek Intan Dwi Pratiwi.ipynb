{
 "cells": [
  {
   "cell_type": "code",
   "execution_count": 18,
   "id": "ddfe0099",
   "metadata": {},
   "outputs": [
    {
     "name": "stdout",
     "output_type": "stream",
     "text": [
      "Algoritma dan Struktur Data\n",
      "Mata Kuliah Semester 2\n"
     ]
    }
   ],
   "source": [
    "# PRINT\n",
    "# pakai tagar untuk penjelasan\n",
    "# selalu menggunakan \"\" atau '' apabila ingin mencetak teks\n",
    "# \"\" berada di dalam kurung\n",
    "print(\"Algoritma dan Struktur Data\")\n",
    "print('Mata Kuliah Semester 2')"
   ]
  },
  {
   "cell_type": "code",
   "execution_count": 19,
   "id": "29994229",
   "metadata": {},
   "outputs": [
    {
     "name": "stdout",
     "output_type": "stream",
     "text": [
      "Intan Pratiwi\n"
     ]
    }
   ],
   "source": [
    "# PRINT\n",
    "# pakai _ untuk spasi\n",
    "nama_depan = \"Intan\"\n",
    "nama_belakang = \"Pratiwi\"\n",
    "# \" \" artinya spasi\n",
    "print(nama_depan+\" \"+nama_belakang)\n",
    "# menggunakan tanda (+) ketika ingin menggabungkan teks dengan variabelnya"
   ]
  },
  {
   "cell_type": "code",
   "execution_count": 9,
   "id": "47a16380",
   "metadata": {},
   "outputs": [
    {
     "name": "stdout",
     "output_type": "stream",
     "text": [
      "Agus adalah seorang dosen di Universitas Udayana.\n"
     ]
    }
   ],
   "source": [
    "#PRINT\n",
    "# harus selalu menggunakan \"\" jika ingin teks ditampilkan\n",
    "nama = \"Agus\"\n",
    "pekerjaan = \"dosen\"\n",
    "institusi = \"Universitas Udayana\"\n",
    "print(nama + \" adalah seorang \" + pekerjaan + \" di \" + institusi +\".\")\n",
    "# diberikan spasi sebelum dan sesudah tanda \"\", agar kalimat rapi."
   ]
  },
  {
   "cell_type": "code",
   "execution_count": 2,
   "id": "aa0972ed",
   "metadata": {},
   "outputs": [
    {
     "name": "stdout",
     "output_type": "stream",
     "text": [
      "80\n",
      "70\n",
      "75\n",
      "225\n"
     ]
    }
   ],
   "source": [
    "#PRINT \n",
    "# Masukkan variabel beserta hasil yang akan keluar jika variabel dicetak\n",
    "Angkatan_22 = 80 \n",
    "Angkatan_21 = 70\n",
    "Angkatan_20 = 75\n",
    "# ketik print beserta variabel yang ingin dicetak, ketik di dalam kurung \n",
    "print (Angkatan_22)\n",
    "print (Angkatan_21)\n",
    "print (Angkatan_20)\n",
    "# Jika ingin menambahkan semua variabel isi dengan tanda +\n",
    "print (Angkatan_22+Angkatan_21+Angkatan_20)"
   ]
  },
  {
   "cell_type": "code",
   "execution_count": 4,
   "id": "9d2781d3",
   "metadata": {},
   "outputs": [
    {
     "name": "stdout",
     "output_type": "stream",
     "text": [
      "Input nama anda : Anton\n",
      "Selamat Pagi Anton semoga harimu menyenangkan!\n"
     ]
    }
   ],
   "source": [
    "# INPUT\n",
    "# input dipakai untuk mendapatkan informasi dari pengguna\n",
    "# \"\" dipakai saat ingin mencetak teks, dan berada di dalam kurung\n",
    "nama = input(\"Input nama anda : \")\n",
    "# menggunakan tanda + ketika ingin menggabungkan teks dengan variabelnya\n",
    "print(\"Selamat Pagi \"+ nama + \" semoga harimu menyenangkan!\")"
   ]
  },
  {
   "cell_type": "code",
   "execution_count": 12,
   "id": "1fbd26e7",
   "metadata": {},
   "outputs": [
    {
     "name": "stdout",
     "output_type": "stream",
     "text": [
      "Siapakah nama kamu ? Ayu\n",
      "Apakah yang sedang kamu lakukan, Ayu? bekerja\n",
      "Semangat bekerja ya, Ayu^^!!\n"
     ]
    }
   ],
   "source": [
    "# INPUT\n",
    "nama = input(\"Siapakah nama kamu ? \")\n",
    "# di akhir diberi jarak spasi agar saat di run terlihat rapi\n",
    "kegiatan = input(\"Apakah yang sedang kamu lakukan, \" + nama + \"? \")\n",
    "print(\"Semangat \" + kegiatan + \" ya, \" + nama + \"^^!!\")\n",
    "# di setiap kata yang ingin ditampilkan harus menggunakan \"\" atau ''\n",
    "# eror ketika lupa menambahkan \"+\""
   ]
  },
  {
   "cell_type": "code",
   "execution_count": 7,
   "id": "3593b2d2",
   "metadata": {},
   "outputs": [
    {
     "name": "stdout",
     "output_type": "stream",
     "text": [
      "Uang di dompet saya   = 5000\n",
      "Uang di tabungan saya = 10000\n",
      "Total uang saya adalah= 15000\n"
     ]
    }
   ],
   "source": [
    "# TIPE DATA\n",
    "# menggunakan jarak yang jauh dari saya ke \"=\" agar saat di run, hasil yang ditampilakn rapi\n",
    "dompet = input(\"Uang di dompet saya   = \")\n",
    "tabungan = input(\"Uang di tabungan saya = \")\n",
    "total = int(dompet) + int(tabungan)\n",
    "# menggunakan int, karena int melambangkan bilangan bulat \n",
    "print(\"Total uang saya adalah= \"+ str(total))\n",
    "# eror ketika menggunakan int, sehingga digunakan str"
   ]
  },
  {
   "cell_type": "code",
   "execution_count": 20,
   "id": "d229f39a",
   "metadata": {},
   "outputs": [
    {
     "name": "stdout",
     "output_type": "stream",
     "text": [
      "Berapa jumlah mahasiswa matematika angkatan 22? 80\n",
      "Berapa jumlah mahasiswa farmasi angkatan 22? 125\n",
      "Berapa jumlah mahasiswa informatika angkatan 22? 130\n",
      "Total mahasiswa matematika, farmasi dan informatika angkatan 22 adalah 335\n"
     ]
    }
   ],
   "source": [
    "#TIPE DATA \n",
    "# memasukan variabel serta teks yang akan diinput\n",
    "mahasiswa_matematika = input(\"Berapa jumlah mahasiswa matematika angkatan 22? \")\n",
    "mahasiswa_farmasi = input (\"Berapa jumlah mahasiswa farmasi angkatan 22? \")\n",
    "mahasiswa_informatika = input (\"Berapa jumlah mahasiswa informatika angkatan 22? \")\n",
    "# menggunakan int (bilangan bulat), karena jumlah mahasiswa.\n",
    "total_mahasiswa = int(mahasiswa_matematika) +int(mahasiswa_farmasi) + int(mahasiswa_informatika)\n",
    "print(\"Total mahasiswa matematika, farmasi dan informatika angkatan 22 adalah \" + str(total_mahasiswa))\n",
    "# eror ketika memakai int pada total_mahasiswa"
   ]
  },
  {
   "cell_type": "code",
   "execution_count": 17,
   "id": "d146e1a5",
   "metadata": {},
   "outputs": [
    {
     "name": "stdout",
     "output_type": "stream",
     "text": [
      "Apakah saya mahasiswa matematika? True\n",
      "Apakah saya mahasiswa farmasi? False\n",
      "Apakah saya mahasiswa informatika? False\n"
     ]
    }
   ],
   "source": [
    "#TIPE DATA \n",
    "saya_mahasiswa_matematika = True\n",
    "saya_mahasiswa_farmasi = False \n",
    "saya_mahasiswa_informatika = False \n",
    "# print (\" teks yang akan di tampilkan\" + str(variabel))\n",
    "print('Apakah saya mahasiswa matematika? ' + str(saya_mahasiswa_matematika) )\n",
    "print(\"Apakah saya mahasiswa farmasi? \" + str(saya_mahasiswa_farmasi))\n",
    "print(\"Apakah saya mahasiswa informatika? \" + str(saya_mahasiswa_informatika))\n",
    "# eror ketika menggunakan bool, sehingga menggunakan str "
   ]
  },
  {
   "cell_type": "code",
   "execution_count": 11,
   "id": "b07bc9f5",
   "metadata": {},
   "outputs": [
    {
     "name": "stdout",
     "output_type": "stream",
     "text": [
      "Bunga Citra adalah seorang mahasiswa dari program studi Matematika yang menyukai mata kuliah Kalkulus.\n"
     ]
    }
   ],
   "source": [
    "#FORMATTED STRING\n",
    "# Memasukan variabel beserta nilainya\n",
    "nama = \"Bunga Citra\"\n",
    "prodi = \"Matematika\"\n",
    "mata_kuliah = \"Kalkulus\"\n",
    "# menggunakan simbol \"f\" \n",
    "# menggunakan tanda {} untuk variabelnya\n",
    "print (f'{nama} adalah seorang mahasiswa dari program studi {prodi} yang menyukai mata kuliah {mata_kuliah}.')"
   ]
  },
  {
   "cell_type": "code",
   "execution_count": 4,
   "id": "42b73bc2",
   "metadata": {},
   "outputs": [
    {
     "name": "stdout",
     "output_type": "stream",
     "text": [
      "Siapakah nama anda? Anton\n",
      "Dimanakah anda lahir? Denpasar\n",
      "Tanggal berapa anda lahir? 12 Januari 2004\n",
      "Anton lahir di Denpasar pada tanggal 12 Januari 2004. \n"
     ]
    }
   ],
   "source": [
    "# FORMATTED STRING\n",
    "# menggunakan sistem input \n",
    "nama = input(\"Siapakah nama anda? \")\n",
    "tempat = input(\"Dimanakah anda lahir? \")\n",
    "tanggal = input(\"Tanggal berapa anda lahir? \")\n",
    "# menggunakan simbol \"f\" untuk formatted string\n",
    "# menggunakan {} untuk variabelnya\n",
    "print(f'{nama} lahir di {tempat} pada tanggal {tanggal}. ')"
   ]
  }
 ],
 "metadata": {
  "kernelspec": {
   "display_name": "Python 3 (ipykernel)",
   "language": "python",
   "name": "python3"
  },
  "language_info": {
   "codemirror_mode": {
    "name": "ipython",
    "version": 3
   },
   "file_extension": ".py",
   "mimetype": "text/x-python",
   "name": "python",
   "nbconvert_exporter": "python",
   "pygments_lexer": "ipython3",
   "version": "3.9.13"
  }
 },
 "nbformat": 4,
 "nbformat_minor": 5
}
